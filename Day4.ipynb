{
 "cells": [
  {
   "cell_type": "markdown",
   "id": "12e16e56-4e13-4b8f-b6bf-fa0030ac07c3",
   "metadata": {},
   "source": [
    "# Without Pipeline Implimented "
   ]
  },
  {
   "cell_type": "markdown",
   "id": "3dc81897-a8d8-4176-b774-82ec09520e19",
   "metadata": {
    "execution": {
     "iopub.execute_input": "2025-09-13T14:23:16.806404Z",
     "iopub.status.busy": "2025-09-13T14:23:16.806404Z",
     "iopub.status.idle": "2025-09-13T14:23:16.810668Z",
     "shell.execute_reply": "2025-09-13T14:23:16.810668Z",
     "shell.execute_reply.started": "2025-09-13T14:23:16.806404Z"
    }
   },
   "source": [
    "### Submission Criteria\n",
    "\n",
    "To fulfill the submission requirements for this project, please ensure the following:\n",
    "\n",
    "1.  **Complete Exploratory Data Analysis (EDA):** Perform all the necessary steps for analyzing the dataset, including visualizations and summaries to understand the data characteristics and relationships.\n",
    "2.  **Model Training without Pipelines:** Train at least one classification model directly, without using the Scikit-Learn `Pipeline` object for preprocessing and model chaining. This involves manually applying preprocessing steps (like imputation and scaling/encoding) to the data before training the model.\n",
    "3.  **Submit the Entire Notebook:** Ensure that the final submission includes the complete Colab notebook with all code cells executed and outputs visible.\n",
    "\n",
    "Meeting these criteria will demonstrate your understanding of the individual steps involved in a machine learning workflow."
   ]
  },
  {
   "cell_type": "code",
   "execution_count": 1,
   "id": "c0efd7c7-80a6-41f0-84f9-160bb4ef8523",
   "metadata": {
    "execution": {
     "iopub.execute_input": "2025-09-14T12:41:28.798124Z",
     "iopub.status.busy": "2025-09-14T12:41:28.798124Z",
     "iopub.status.idle": "2025-09-14T12:41:30.612769Z",
     "shell.execute_reply": "2025-09-14T12:41:30.612265Z",
     "shell.execute_reply.started": "2025-09-14T12:41:28.798124Z"
    }
   },
   "outputs": [],
   "source": [
    "import pandas as pd\n",
    "import numpy as np\n",
    "import matplotlib.pyplot as plt\n",
    "import seaborn as sns\n",
    "from sklearn.model_selection import train_test_split\n",
    "from sklearn.preprocessing import StandardScaler , OneHotEncoder, LabelEncoder, OrdinalEncoder\n",
    "from sklearn.compose import ColumnTransformer\n",
    "from sklearn.linear_model import LogisticRegression\n",
    "from sklearn.ensemble import RandomForestClassifier\n",
    "from sklearn.metrics import accuracy_score, confusion_matrix, classification_report , precision_score, recall_score, f1_score\n",
    "from sklearn.neighbors import KNeighborsClassifier\n",
    "from sklearn.svm import SVC\n",
    "\n",
    "sns.set_style('whitegrid')"
   ]
  },
  {
   "cell_type": "code",
   "execution_count": 2,
   "id": "a090b0c9-ab2f-4a98-bf44-6c42adfc64cd",
   "metadata": {
    "execution": {
     "iopub.execute_input": "2025-09-14T12:41:30.613773Z",
     "iopub.status.busy": "2025-09-14T12:41:30.612769Z",
     "iopub.status.idle": "2025-09-14T12:41:30.632795Z",
     "shell.execute_reply": "2025-09-14T12:41:30.632795Z",
     "shell.execute_reply.started": "2025-09-14T12:41:30.613773Z"
    }
   },
   "outputs": [
    {
     "data": {
      "text/html": [
       "<div>\n",
       "<style scoped>\n",
       "    .dataframe tbody tr th:only-of-type {\n",
       "        vertical-align: middle;\n",
       "    }\n",
       "\n",
       "    .dataframe tbody tr th {\n",
       "        vertical-align: top;\n",
       "    }\n",
       "\n",
       "    .dataframe thead th {\n",
       "        text-align: right;\n",
       "    }\n",
       "</style>\n",
       "<table border=\"1\" class=\"dataframe\">\n",
       "  <thead>\n",
       "    <tr style=\"text-align: right;\">\n",
       "      <th></th>\n",
       "      <th>id</th>\n",
       "      <th>age</th>\n",
       "      <th>sex</th>\n",
       "      <th>dataset</th>\n",
       "      <th>cp</th>\n",
       "      <th>trestbps</th>\n",
       "      <th>chol</th>\n",
       "      <th>fbs</th>\n",
       "      <th>restecg</th>\n",
       "      <th>thalch</th>\n",
       "      <th>exang</th>\n",
       "      <th>oldpeak</th>\n",
       "      <th>slope</th>\n",
       "      <th>ca</th>\n",
       "      <th>thal</th>\n",
       "      <th>num</th>\n",
       "    </tr>\n",
       "  </thead>\n",
       "  <tbody>\n",
       "    <tr>\n",
       "      <th>0</th>\n",
       "      <td>1</td>\n",
       "      <td>63</td>\n",
       "      <td>Male</td>\n",
       "      <td>Cleveland</td>\n",
       "      <td>typical angina</td>\n",
       "      <td>145.0</td>\n",
       "      <td>233.0</td>\n",
       "      <td>True</td>\n",
       "      <td>lv hypertrophy</td>\n",
       "      <td>150.0</td>\n",
       "      <td>False</td>\n",
       "      <td>2.3</td>\n",
       "      <td>downsloping</td>\n",
       "      <td>0.0</td>\n",
       "      <td>fixed defect</td>\n",
       "      <td>0</td>\n",
       "    </tr>\n",
       "    <tr>\n",
       "      <th>1</th>\n",
       "      <td>2</td>\n",
       "      <td>67</td>\n",
       "      <td>Male</td>\n",
       "      <td>Cleveland</td>\n",
       "      <td>asymptomatic</td>\n",
       "      <td>160.0</td>\n",
       "      <td>286.0</td>\n",
       "      <td>False</td>\n",
       "      <td>lv hypertrophy</td>\n",
       "      <td>108.0</td>\n",
       "      <td>True</td>\n",
       "      <td>1.5</td>\n",
       "      <td>flat</td>\n",
       "      <td>3.0</td>\n",
       "      <td>normal</td>\n",
       "      <td>2</td>\n",
       "    </tr>\n",
       "    <tr>\n",
       "      <th>2</th>\n",
       "      <td>3</td>\n",
       "      <td>67</td>\n",
       "      <td>Male</td>\n",
       "      <td>Cleveland</td>\n",
       "      <td>asymptomatic</td>\n",
       "      <td>120.0</td>\n",
       "      <td>229.0</td>\n",
       "      <td>False</td>\n",
       "      <td>lv hypertrophy</td>\n",
       "      <td>129.0</td>\n",
       "      <td>True</td>\n",
       "      <td>2.6</td>\n",
       "      <td>flat</td>\n",
       "      <td>2.0</td>\n",
       "      <td>reversable defect</td>\n",
       "      <td>1</td>\n",
       "    </tr>\n",
       "    <tr>\n",
       "      <th>3</th>\n",
       "      <td>4</td>\n",
       "      <td>37</td>\n",
       "      <td>Male</td>\n",
       "      <td>Cleveland</td>\n",
       "      <td>non-anginal</td>\n",
       "      <td>130.0</td>\n",
       "      <td>250.0</td>\n",
       "      <td>False</td>\n",
       "      <td>normal</td>\n",
       "      <td>187.0</td>\n",
       "      <td>False</td>\n",
       "      <td>3.5</td>\n",
       "      <td>downsloping</td>\n",
       "      <td>0.0</td>\n",
       "      <td>normal</td>\n",
       "      <td>0</td>\n",
       "    </tr>\n",
       "    <tr>\n",
       "      <th>4</th>\n",
       "      <td>5</td>\n",
       "      <td>41</td>\n",
       "      <td>Female</td>\n",
       "      <td>Cleveland</td>\n",
       "      <td>atypical angina</td>\n",
       "      <td>130.0</td>\n",
       "      <td>204.0</td>\n",
       "      <td>False</td>\n",
       "      <td>lv hypertrophy</td>\n",
       "      <td>172.0</td>\n",
       "      <td>False</td>\n",
       "      <td>1.4</td>\n",
       "      <td>upsloping</td>\n",
       "      <td>0.0</td>\n",
       "      <td>normal</td>\n",
       "      <td>0</td>\n",
       "    </tr>\n",
       "    <tr>\n",
       "      <th>...</th>\n",
       "      <td>...</td>\n",
       "      <td>...</td>\n",
       "      <td>...</td>\n",
       "      <td>...</td>\n",
       "      <td>...</td>\n",
       "      <td>...</td>\n",
       "      <td>...</td>\n",
       "      <td>...</td>\n",
       "      <td>...</td>\n",
       "      <td>...</td>\n",
       "      <td>...</td>\n",
       "      <td>...</td>\n",
       "      <td>...</td>\n",
       "      <td>...</td>\n",
       "      <td>...</td>\n",
       "      <td>...</td>\n",
       "    </tr>\n",
       "    <tr>\n",
       "      <th>915</th>\n",
       "      <td>916</td>\n",
       "      <td>54</td>\n",
       "      <td>Female</td>\n",
       "      <td>VA Long Beach</td>\n",
       "      <td>asymptomatic</td>\n",
       "      <td>127.0</td>\n",
       "      <td>333.0</td>\n",
       "      <td>True</td>\n",
       "      <td>st-t abnormality</td>\n",
       "      <td>154.0</td>\n",
       "      <td>False</td>\n",
       "      <td>0.0</td>\n",
       "      <td>NaN</td>\n",
       "      <td>NaN</td>\n",
       "      <td>NaN</td>\n",
       "      <td>1</td>\n",
       "    </tr>\n",
       "    <tr>\n",
       "      <th>916</th>\n",
       "      <td>917</td>\n",
       "      <td>62</td>\n",
       "      <td>Male</td>\n",
       "      <td>VA Long Beach</td>\n",
       "      <td>typical angina</td>\n",
       "      <td>NaN</td>\n",
       "      <td>139.0</td>\n",
       "      <td>False</td>\n",
       "      <td>st-t abnormality</td>\n",
       "      <td>NaN</td>\n",
       "      <td>NaN</td>\n",
       "      <td>NaN</td>\n",
       "      <td>NaN</td>\n",
       "      <td>NaN</td>\n",
       "      <td>NaN</td>\n",
       "      <td>0</td>\n",
       "    </tr>\n",
       "    <tr>\n",
       "      <th>917</th>\n",
       "      <td>918</td>\n",
       "      <td>55</td>\n",
       "      <td>Male</td>\n",
       "      <td>VA Long Beach</td>\n",
       "      <td>asymptomatic</td>\n",
       "      <td>122.0</td>\n",
       "      <td>223.0</td>\n",
       "      <td>True</td>\n",
       "      <td>st-t abnormality</td>\n",
       "      <td>100.0</td>\n",
       "      <td>False</td>\n",
       "      <td>0.0</td>\n",
       "      <td>NaN</td>\n",
       "      <td>NaN</td>\n",
       "      <td>fixed defect</td>\n",
       "      <td>2</td>\n",
       "    </tr>\n",
       "    <tr>\n",
       "      <th>918</th>\n",
       "      <td>919</td>\n",
       "      <td>58</td>\n",
       "      <td>Male</td>\n",
       "      <td>VA Long Beach</td>\n",
       "      <td>asymptomatic</td>\n",
       "      <td>NaN</td>\n",
       "      <td>385.0</td>\n",
       "      <td>True</td>\n",
       "      <td>lv hypertrophy</td>\n",
       "      <td>NaN</td>\n",
       "      <td>NaN</td>\n",
       "      <td>NaN</td>\n",
       "      <td>NaN</td>\n",
       "      <td>NaN</td>\n",
       "      <td>NaN</td>\n",
       "      <td>0</td>\n",
       "    </tr>\n",
       "    <tr>\n",
       "      <th>919</th>\n",
       "      <td>920</td>\n",
       "      <td>62</td>\n",
       "      <td>Male</td>\n",
       "      <td>VA Long Beach</td>\n",
       "      <td>atypical angina</td>\n",
       "      <td>120.0</td>\n",
       "      <td>254.0</td>\n",
       "      <td>False</td>\n",
       "      <td>lv hypertrophy</td>\n",
       "      <td>93.0</td>\n",
       "      <td>True</td>\n",
       "      <td>0.0</td>\n",
       "      <td>NaN</td>\n",
       "      <td>NaN</td>\n",
       "      <td>NaN</td>\n",
       "      <td>1</td>\n",
       "    </tr>\n",
       "  </tbody>\n",
       "</table>\n",
       "<p>920 rows × 16 columns</p>\n",
       "</div>"
      ],
      "text/plain": [
       "      id  age     sex        dataset               cp  trestbps   chol    fbs  \\\n",
       "0      1   63    Male      Cleveland   typical angina     145.0  233.0   True   \n",
       "1      2   67    Male      Cleveland     asymptomatic     160.0  286.0  False   \n",
       "2      3   67    Male      Cleveland     asymptomatic     120.0  229.0  False   \n",
       "3      4   37    Male      Cleveland      non-anginal     130.0  250.0  False   \n",
       "4      5   41  Female      Cleveland  atypical angina     130.0  204.0  False   \n",
       "..   ...  ...     ...            ...              ...       ...    ...    ...   \n",
       "915  916   54  Female  VA Long Beach     asymptomatic     127.0  333.0   True   \n",
       "916  917   62    Male  VA Long Beach   typical angina       NaN  139.0  False   \n",
       "917  918   55    Male  VA Long Beach     asymptomatic     122.0  223.0   True   \n",
       "918  919   58    Male  VA Long Beach     asymptomatic       NaN  385.0   True   \n",
       "919  920   62    Male  VA Long Beach  atypical angina     120.0  254.0  False   \n",
       "\n",
       "              restecg  thalch  exang  oldpeak        slope   ca  \\\n",
       "0      lv hypertrophy   150.0  False      2.3  downsloping  0.0   \n",
       "1      lv hypertrophy   108.0   True      1.5         flat  3.0   \n",
       "2      lv hypertrophy   129.0   True      2.6         flat  2.0   \n",
       "3              normal   187.0  False      3.5  downsloping  0.0   \n",
       "4      lv hypertrophy   172.0  False      1.4    upsloping  0.0   \n",
       "..                ...     ...    ...      ...          ...  ...   \n",
       "915  st-t abnormality   154.0  False      0.0          NaN  NaN   \n",
       "916  st-t abnormality     NaN    NaN      NaN          NaN  NaN   \n",
       "917  st-t abnormality   100.0  False      0.0          NaN  NaN   \n",
       "918    lv hypertrophy     NaN    NaN      NaN          NaN  NaN   \n",
       "919    lv hypertrophy    93.0   True      0.0          NaN  NaN   \n",
       "\n",
       "                  thal  num  \n",
       "0         fixed defect    0  \n",
       "1               normal    2  \n",
       "2    reversable defect    1  \n",
       "3               normal    0  \n",
       "4               normal    0  \n",
       "..                 ...  ...  \n",
       "915                NaN    1  \n",
       "916                NaN    0  \n",
       "917       fixed defect    2  \n",
       "918                NaN    0  \n",
       "919                NaN    1  \n",
       "\n",
       "[920 rows x 16 columns]"
      ]
     },
     "execution_count": 2,
     "metadata": {},
     "output_type": "execute_result"
    }
   ],
   "source": [
    "data = pd.read_csv('heart_disease_uci-Day4.csv')\n",
    "data"
   ]
  },
  {
   "cell_type": "code",
   "execution_count": 3,
   "id": "ecfc5c37-ebc4-4485-b2b6-26e031aa6c93",
   "metadata": {
    "execution": {
     "iopub.execute_input": "2025-09-14T12:41:30.633799Z",
     "iopub.status.busy": "2025-09-14T12:41:30.633799Z",
     "iopub.status.idle": "2025-09-14T12:41:30.642312Z",
     "shell.execute_reply": "2025-09-14T12:41:30.642312Z",
     "shell.execute_reply.started": "2025-09-14T12:41:30.633799Z"
    }
   },
   "outputs": [
    {
     "name": "stdout",
     "output_type": "stream",
     "text": [
      "<class 'pandas.core.frame.DataFrame'>\n",
      "RangeIndex: 920 entries, 0 to 919\n",
      "Data columns (total 16 columns):\n",
      " #   Column    Non-Null Count  Dtype  \n",
      "---  ------    --------------  -----  \n",
      " 0   id        920 non-null    int64  \n",
      " 1   age       920 non-null    int64  \n",
      " 2   sex       920 non-null    object \n",
      " 3   dataset   920 non-null    object \n",
      " 4   cp        920 non-null    object \n",
      " 5   trestbps  861 non-null    float64\n",
      " 6   chol      890 non-null    float64\n",
      " 7   fbs       830 non-null    object \n",
      " 8   restecg   918 non-null    object \n",
      " 9   thalch    865 non-null    float64\n",
      " 10  exang     865 non-null    object \n",
      " 11  oldpeak   858 non-null    float64\n",
      " 12  slope     611 non-null    object \n",
      " 13  ca        309 non-null    float64\n",
      " 14  thal      434 non-null    object \n",
      " 15  num       920 non-null    int64  \n",
      "dtypes: float64(5), int64(3), object(8)\n",
      "memory usage: 115.1+ KB\n"
     ]
    }
   ],
   "source": [
    "data.info()"
   ]
  },
  {
   "cell_type": "code",
   "execution_count": 4,
   "id": "bd2a39a2-0efd-41a8-ac4c-b5d3351dbfd3",
   "metadata": {
    "execution": {
     "iopub.execute_input": "2025-09-14T12:41:30.644316Z",
     "iopub.status.busy": "2025-09-14T12:41:30.644316Z",
     "iopub.status.idle": "2025-09-14T12:41:30.649034Z",
     "shell.execute_reply": "2025-09-14T12:41:30.649034Z",
     "shell.execute_reply.started": "2025-09-14T12:41:30.644316Z"
    }
   },
   "outputs": [],
   "source": [
    "data.set_index('id', inplace=True)"
   ]
  },
  {
   "cell_type": "code",
   "execution_count": 5,
   "id": "4bd62da9-53f6-4ce9-91dd-693b9ba363de",
   "metadata": {
    "execution": {
     "iopub.execute_input": "2025-09-14T12:41:30.650039Z",
     "iopub.status.busy": "2025-09-14T12:41:30.650039Z",
     "iopub.status.idle": "2025-09-14T12:41:30.664044Z",
     "shell.execute_reply": "2025-09-14T12:41:30.664044Z",
     "shell.execute_reply.started": "2025-09-14T12:41:30.650039Z"
    }
   },
   "outputs": [
    {
     "data": {
      "text/html": [
       "<div>\n",
       "<style scoped>\n",
       "    .dataframe tbody tr th:only-of-type {\n",
       "        vertical-align: middle;\n",
       "    }\n",
       "\n",
       "    .dataframe tbody tr th {\n",
       "        vertical-align: top;\n",
       "    }\n",
       "\n",
       "    .dataframe thead th {\n",
       "        text-align: right;\n",
       "    }\n",
       "</style>\n",
       "<table border=\"1\" class=\"dataframe\">\n",
       "  <thead>\n",
       "    <tr style=\"text-align: right;\">\n",
       "      <th></th>\n",
       "      <th>age</th>\n",
       "      <th>sex</th>\n",
       "      <th>dataset</th>\n",
       "      <th>cp</th>\n",
       "      <th>trestbps</th>\n",
       "      <th>chol</th>\n",
       "      <th>fbs</th>\n",
       "      <th>restecg</th>\n",
       "      <th>thalch</th>\n",
       "      <th>exang</th>\n",
       "      <th>oldpeak</th>\n",
       "      <th>slope</th>\n",
       "      <th>ca</th>\n",
       "      <th>thal</th>\n",
       "      <th>num</th>\n",
       "    </tr>\n",
       "    <tr>\n",
       "      <th>id</th>\n",
       "      <th></th>\n",
       "      <th></th>\n",
       "      <th></th>\n",
       "      <th></th>\n",
       "      <th></th>\n",
       "      <th></th>\n",
       "      <th></th>\n",
       "      <th></th>\n",
       "      <th></th>\n",
       "      <th></th>\n",
       "      <th></th>\n",
       "      <th></th>\n",
       "      <th></th>\n",
       "      <th></th>\n",
       "      <th></th>\n",
       "    </tr>\n",
       "  </thead>\n",
       "  <tbody>\n",
       "    <tr>\n",
       "      <th>1</th>\n",
       "      <td>63</td>\n",
       "      <td>Male</td>\n",
       "      <td>Cleveland</td>\n",
       "      <td>typical angina</td>\n",
       "      <td>145.0</td>\n",
       "      <td>233.0</td>\n",
       "      <td>True</td>\n",
       "      <td>lv hypertrophy</td>\n",
       "      <td>150.0</td>\n",
       "      <td>False</td>\n",
       "      <td>2.3</td>\n",
       "      <td>downsloping</td>\n",
       "      <td>0.0</td>\n",
       "      <td>fixed defect</td>\n",
       "      <td>0</td>\n",
       "    </tr>\n",
       "    <tr>\n",
       "      <th>2</th>\n",
       "      <td>67</td>\n",
       "      <td>Male</td>\n",
       "      <td>Cleveland</td>\n",
       "      <td>asymptomatic</td>\n",
       "      <td>160.0</td>\n",
       "      <td>286.0</td>\n",
       "      <td>False</td>\n",
       "      <td>lv hypertrophy</td>\n",
       "      <td>108.0</td>\n",
       "      <td>True</td>\n",
       "      <td>1.5</td>\n",
       "      <td>flat</td>\n",
       "      <td>3.0</td>\n",
       "      <td>normal</td>\n",
       "      <td>2</td>\n",
       "    </tr>\n",
       "    <tr>\n",
       "      <th>3</th>\n",
       "      <td>67</td>\n",
       "      <td>Male</td>\n",
       "      <td>Cleveland</td>\n",
       "      <td>asymptomatic</td>\n",
       "      <td>120.0</td>\n",
       "      <td>229.0</td>\n",
       "      <td>False</td>\n",
       "      <td>lv hypertrophy</td>\n",
       "      <td>129.0</td>\n",
       "      <td>True</td>\n",
       "      <td>2.6</td>\n",
       "      <td>flat</td>\n",
       "      <td>2.0</td>\n",
       "      <td>reversable defect</td>\n",
       "      <td>1</td>\n",
       "    </tr>\n",
       "    <tr>\n",
       "      <th>4</th>\n",
       "      <td>37</td>\n",
       "      <td>Male</td>\n",
       "      <td>Cleveland</td>\n",
       "      <td>non-anginal</td>\n",
       "      <td>130.0</td>\n",
       "      <td>250.0</td>\n",
       "      <td>False</td>\n",
       "      <td>normal</td>\n",
       "      <td>187.0</td>\n",
       "      <td>False</td>\n",
       "      <td>3.5</td>\n",
       "      <td>downsloping</td>\n",
       "      <td>0.0</td>\n",
       "      <td>normal</td>\n",
       "      <td>0</td>\n",
       "    </tr>\n",
       "    <tr>\n",
       "      <th>5</th>\n",
       "      <td>41</td>\n",
       "      <td>Female</td>\n",
       "      <td>Cleveland</td>\n",
       "      <td>atypical angina</td>\n",
       "      <td>130.0</td>\n",
       "      <td>204.0</td>\n",
       "      <td>False</td>\n",
       "      <td>lv hypertrophy</td>\n",
       "      <td>172.0</td>\n",
       "      <td>False</td>\n",
       "      <td>1.4</td>\n",
       "      <td>upsloping</td>\n",
       "      <td>0.0</td>\n",
       "      <td>normal</td>\n",
       "      <td>0</td>\n",
       "    </tr>\n",
       "    <tr>\n",
       "      <th>...</th>\n",
       "      <td>...</td>\n",
       "      <td>...</td>\n",
       "      <td>...</td>\n",
       "      <td>...</td>\n",
       "      <td>...</td>\n",
       "      <td>...</td>\n",
       "      <td>...</td>\n",
       "      <td>...</td>\n",
       "      <td>...</td>\n",
       "      <td>...</td>\n",
       "      <td>...</td>\n",
       "      <td>...</td>\n",
       "      <td>...</td>\n",
       "      <td>...</td>\n",
       "      <td>...</td>\n",
       "    </tr>\n",
       "    <tr>\n",
       "      <th>916</th>\n",
       "      <td>54</td>\n",
       "      <td>Female</td>\n",
       "      <td>VA Long Beach</td>\n",
       "      <td>asymptomatic</td>\n",
       "      <td>127.0</td>\n",
       "      <td>333.0</td>\n",
       "      <td>True</td>\n",
       "      <td>st-t abnormality</td>\n",
       "      <td>154.0</td>\n",
       "      <td>False</td>\n",
       "      <td>0.0</td>\n",
       "      <td>NaN</td>\n",
       "      <td>NaN</td>\n",
       "      <td>NaN</td>\n",
       "      <td>1</td>\n",
       "    </tr>\n",
       "    <tr>\n",
       "      <th>917</th>\n",
       "      <td>62</td>\n",
       "      <td>Male</td>\n",
       "      <td>VA Long Beach</td>\n",
       "      <td>typical angina</td>\n",
       "      <td>NaN</td>\n",
       "      <td>139.0</td>\n",
       "      <td>False</td>\n",
       "      <td>st-t abnormality</td>\n",
       "      <td>NaN</td>\n",
       "      <td>NaN</td>\n",
       "      <td>NaN</td>\n",
       "      <td>NaN</td>\n",
       "      <td>NaN</td>\n",
       "      <td>NaN</td>\n",
       "      <td>0</td>\n",
       "    </tr>\n",
       "    <tr>\n",
       "      <th>918</th>\n",
       "      <td>55</td>\n",
       "      <td>Male</td>\n",
       "      <td>VA Long Beach</td>\n",
       "      <td>asymptomatic</td>\n",
       "      <td>122.0</td>\n",
       "      <td>223.0</td>\n",
       "      <td>True</td>\n",
       "      <td>st-t abnormality</td>\n",
       "      <td>100.0</td>\n",
       "      <td>False</td>\n",
       "      <td>0.0</td>\n",
       "      <td>NaN</td>\n",
       "      <td>NaN</td>\n",
       "      <td>fixed defect</td>\n",
       "      <td>2</td>\n",
       "    </tr>\n",
       "    <tr>\n",
       "      <th>919</th>\n",
       "      <td>58</td>\n",
       "      <td>Male</td>\n",
       "      <td>VA Long Beach</td>\n",
       "      <td>asymptomatic</td>\n",
       "      <td>NaN</td>\n",
       "      <td>385.0</td>\n",
       "      <td>True</td>\n",
       "      <td>lv hypertrophy</td>\n",
       "      <td>NaN</td>\n",
       "      <td>NaN</td>\n",
       "      <td>NaN</td>\n",
       "      <td>NaN</td>\n",
       "      <td>NaN</td>\n",
       "      <td>NaN</td>\n",
       "      <td>0</td>\n",
       "    </tr>\n",
       "    <tr>\n",
       "      <th>920</th>\n",
       "      <td>62</td>\n",
       "      <td>Male</td>\n",
       "      <td>VA Long Beach</td>\n",
       "      <td>atypical angina</td>\n",
       "      <td>120.0</td>\n",
       "      <td>254.0</td>\n",
       "      <td>False</td>\n",
       "      <td>lv hypertrophy</td>\n",
       "      <td>93.0</td>\n",
       "      <td>True</td>\n",
       "      <td>0.0</td>\n",
       "      <td>NaN</td>\n",
       "      <td>NaN</td>\n",
       "      <td>NaN</td>\n",
       "      <td>1</td>\n",
       "    </tr>\n",
       "  </tbody>\n",
       "</table>\n",
       "<p>920 rows × 15 columns</p>\n",
       "</div>"
      ],
      "text/plain": [
       "     age     sex        dataset               cp  trestbps   chol    fbs  \\\n",
       "id                                                                         \n",
       "1     63    Male      Cleveland   typical angina     145.0  233.0   True   \n",
       "2     67    Male      Cleveland     asymptomatic     160.0  286.0  False   \n",
       "3     67    Male      Cleveland     asymptomatic     120.0  229.0  False   \n",
       "4     37    Male      Cleveland      non-anginal     130.0  250.0  False   \n",
       "5     41  Female      Cleveland  atypical angina     130.0  204.0  False   \n",
       "..   ...     ...            ...              ...       ...    ...    ...   \n",
       "916   54  Female  VA Long Beach     asymptomatic     127.0  333.0   True   \n",
       "917   62    Male  VA Long Beach   typical angina       NaN  139.0  False   \n",
       "918   55    Male  VA Long Beach     asymptomatic     122.0  223.0   True   \n",
       "919   58    Male  VA Long Beach     asymptomatic       NaN  385.0   True   \n",
       "920   62    Male  VA Long Beach  atypical angina     120.0  254.0  False   \n",
       "\n",
       "              restecg  thalch  exang  oldpeak        slope   ca  \\\n",
       "id                                                                \n",
       "1      lv hypertrophy   150.0  False      2.3  downsloping  0.0   \n",
       "2      lv hypertrophy   108.0   True      1.5         flat  3.0   \n",
       "3      lv hypertrophy   129.0   True      2.6         flat  2.0   \n",
       "4              normal   187.0  False      3.5  downsloping  0.0   \n",
       "5      lv hypertrophy   172.0  False      1.4    upsloping  0.0   \n",
       "..                ...     ...    ...      ...          ...  ...   \n",
       "916  st-t abnormality   154.0  False      0.0          NaN  NaN   \n",
       "917  st-t abnormality     NaN    NaN      NaN          NaN  NaN   \n",
       "918  st-t abnormality   100.0  False      0.0          NaN  NaN   \n",
       "919    lv hypertrophy     NaN    NaN      NaN          NaN  NaN   \n",
       "920    lv hypertrophy    93.0   True      0.0          NaN  NaN   \n",
       "\n",
       "                  thal  num  \n",
       "id                           \n",
       "1         fixed defect    0  \n",
       "2               normal    2  \n",
       "3    reversable defect    1  \n",
       "4               normal    0  \n",
       "5               normal    0  \n",
       "..                 ...  ...  \n",
       "916                NaN    1  \n",
       "917                NaN    0  \n",
       "918       fixed defect    2  \n",
       "919                NaN    0  \n",
       "920                NaN    1  \n",
       "\n",
       "[920 rows x 15 columns]"
      ]
     },
     "execution_count": 5,
     "metadata": {},
     "output_type": "execute_result"
    }
   ],
   "source": [
    "data"
   ]
  },
  {
   "cell_type": "code",
   "execution_count": 6,
   "id": "9cdd0c8f-5bf9-49f4-b529-468decaa1bee",
   "metadata": {
    "execution": {
     "iopub.execute_input": "2025-09-14T12:41:30.665049Z",
     "iopub.status.busy": "2025-09-14T12:41:30.665049Z",
     "iopub.status.idle": "2025-09-14T12:41:30.669068Z",
     "shell.execute_reply": "2025-09-14T12:41:30.668563Z",
     "shell.execute_reply.started": "2025-09-14T12:41:30.665049Z"
    }
   },
   "outputs": [],
   "source": [
    "data = data.drop(['dataset'], axis=1)"
   ]
  },
  {
   "cell_type": "code",
   "execution_count": 7,
   "id": "45eb6846-c797-47d4-8c0b-a61c5ce2f490",
   "metadata": {
    "execution": {
     "iopub.execute_input": "2025-09-14T12:41:30.669068Z",
     "iopub.status.busy": "2025-09-14T12:41:30.669068Z",
     "iopub.status.idle": "2025-09-14T12:41:30.675072Z",
     "shell.execute_reply": "2025-09-14T12:41:30.674066Z",
     "shell.execute_reply.started": "2025-09-14T12:41:30.669068Z"
    }
   },
   "outputs": [
    {
     "data": {
      "text/plain": [
       "(920, 14)"
      ]
     },
     "execution_count": 7,
     "metadata": {},
     "output_type": "execute_result"
    }
   ],
   "source": [
    "data.shape"
   ]
  },
  {
   "cell_type": "code",
   "execution_count": 8,
   "id": "406f14d2-c10c-4c5a-a0c2-6dde09567d1a",
   "metadata": {
    "execution": {
     "iopub.execute_input": "2025-09-14T12:41:30.675577Z",
     "iopub.status.busy": "2025-09-14T12:41:30.675577Z",
     "iopub.status.idle": "2025-09-14T12:41:30.687227Z",
     "shell.execute_reply": "2025-09-14T12:41:30.687227Z",
     "shell.execute_reply.started": "2025-09-14T12:41:30.675577Z"
    }
   },
   "outputs": [
    {
     "data": {
      "text/html": [
       "<div>\n",
       "<style scoped>\n",
       "    .dataframe tbody tr th:only-of-type {\n",
       "        vertical-align: middle;\n",
       "    }\n",
       "\n",
       "    .dataframe tbody tr th {\n",
       "        vertical-align: top;\n",
       "    }\n",
       "\n",
       "    .dataframe thead th {\n",
       "        text-align: right;\n",
       "    }\n",
       "</style>\n",
       "<table border=\"1\" class=\"dataframe\">\n",
       "  <thead>\n",
       "    <tr style=\"text-align: right;\">\n",
       "      <th></th>\n",
       "      <th>age</th>\n",
       "      <th>sex</th>\n",
       "      <th>cp</th>\n",
       "      <th>trestbps</th>\n",
       "      <th>chol</th>\n",
       "      <th>fbs</th>\n",
       "      <th>restecg</th>\n",
       "      <th>thalch</th>\n",
       "      <th>exang</th>\n",
       "      <th>oldpeak</th>\n",
       "      <th>slope</th>\n",
       "      <th>ca</th>\n",
       "      <th>thal</th>\n",
       "      <th>num</th>\n",
       "    </tr>\n",
       "    <tr>\n",
       "      <th>id</th>\n",
       "      <th></th>\n",
       "      <th></th>\n",
       "      <th></th>\n",
       "      <th></th>\n",
       "      <th></th>\n",
       "      <th></th>\n",
       "      <th></th>\n",
       "      <th></th>\n",
       "      <th></th>\n",
       "      <th></th>\n",
       "      <th></th>\n",
       "      <th></th>\n",
       "      <th></th>\n",
       "      <th></th>\n",
       "    </tr>\n",
       "  </thead>\n",
       "  <tbody>\n",
       "    <tr>\n",
       "      <th>1</th>\n",
       "      <td>63</td>\n",
       "      <td>Male</td>\n",
       "      <td>typical angina</td>\n",
       "      <td>145.0</td>\n",
       "      <td>233.0</td>\n",
       "      <td>True</td>\n",
       "      <td>lv hypertrophy</td>\n",
       "      <td>150.0</td>\n",
       "      <td>False</td>\n",
       "      <td>2.3</td>\n",
       "      <td>downsloping</td>\n",
       "      <td>0.0</td>\n",
       "      <td>fixed defect</td>\n",
       "      <td>0</td>\n",
       "    </tr>\n",
       "    <tr>\n",
       "      <th>2</th>\n",
       "      <td>67</td>\n",
       "      <td>Male</td>\n",
       "      <td>asymptomatic</td>\n",
       "      <td>160.0</td>\n",
       "      <td>286.0</td>\n",
       "      <td>False</td>\n",
       "      <td>lv hypertrophy</td>\n",
       "      <td>108.0</td>\n",
       "      <td>True</td>\n",
       "      <td>1.5</td>\n",
       "      <td>flat</td>\n",
       "      <td>3.0</td>\n",
       "      <td>normal</td>\n",
       "      <td>2</td>\n",
       "    </tr>\n",
       "    <tr>\n",
       "      <th>3</th>\n",
       "      <td>67</td>\n",
       "      <td>Male</td>\n",
       "      <td>asymptomatic</td>\n",
       "      <td>120.0</td>\n",
       "      <td>229.0</td>\n",
       "      <td>False</td>\n",
       "      <td>lv hypertrophy</td>\n",
       "      <td>129.0</td>\n",
       "      <td>True</td>\n",
       "      <td>2.6</td>\n",
       "      <td>flat</td>\n",
       "      <td>2.0</td>\n",
       "      <td>reversable defect</td>\n",
       "      <td>1</td>\n",
       "    </tr>\n",
       "    <tr>\n",
       "      <th>4</th>\n",
       "      <td>37</td>\n",
       "      <td>Male</td>\n",
       "      <td>non-anginal</td>\n",
       "      <td>130.0</td>\n",
       "      <td>250.0</td>\n",
       "      <td>False</td>\n",
       "      <td>normal</td>\n",
       "      <td>187.0</td>\n",
       "      <td>False</td>\n",
       "      <td>3.5</td>\n",
       "      <td>downsloping</td>\n",
       "      <td>0.0</td>\n",
       "      <td>normal</td>\n",
       "      <td>0</td>\n",
       "    </tr>\n",
       "    <tr>\n",
       "      <th>5</th>\n",
       "      <td>41</td>\n",
       "      <td>Female</td>\n",
       "      <td>atypical angina</td>\n",
       "      <td>130.0</td>\n",
       "      <td>204.0</td>\n",
       "      <td>False</td>\n",
       "      <td>lv hypertrophy</td>\n",
       "      <td>172.0</td>\n",
       "      <td>False</td>\n",
       "      <td>1.4</td>\n",
       "      <td>upsloping</td>\n",
       "      <td>0.0</td>\n",
       "      <td>normal</td>\n",
       "      <td>0</td>\n",
       "    </tr>\n",
       "    <tr>\n",
       "      <th>...</th>\n",
       "      <td>...</td>\n",
       "      <td>...</td>\n",
       "      <td>...</td>\n",
       "      <td>...</td>\n",
       "      <td>...</td>\n",
       "      <td>...</td>\n",
       "      <td>...</td>\n",
       "      <td>...</td>\n",
       "      <td>...</td>\n",
       "      <td>...</td>\n",
       "      <td>...</td>\n",
       "      <td>...</td>\n",
       "      <td>...</td>\n",
       "      <td>...</td>\n",
       "    </tr>\n",
       "    <tr>\n",
       "      <th>916</th>\n",
       "      <td>54</td>\n",
       "      <td>Female</td>\n",
       "      <td>asymptomatic</td>\n",
       "      <td>127.0</td>\n",
       "      <td>333.0</td>\n",
       "      <td>True</td>\n",
       "      <td>st-t abnormality</td>\n",
       "      <td>154.0</td>\n",
       "      <td>False</td>\n",
       "      <td>0.0</td>\n",
       "      <td>NaN</td>\n",
       "      <td>NaN</td>\n",
       "      <td>NaN</td>\n",
       "      <td>1</td>\n",
       "    </tr>\n",
       "    <tr>\n",
       "      <th>917</th>\n",
       "      <td>62</td>\n",
       "      <td>Male</td>\n",
       "      <td>typical angina</td>\n",
       "      <td>NaN</td>\n",
       "      <td>139.0</td>\n",
       "      <td>False</td>\n",
       "      <td>st-t abnormality</td>\n",
       "      <td>NaN</td>\n",
       "      <td>NaN</td>\n",
       "      <td>NaN</td>\n",
       "      <td>NaN</td>\n",
       "      <td>NaN</td>\n",
       "      <td>NaN</td>\n",
       "      <td>0</td>\n",
       "    </tr>\n",
       "    <tr>\n",
       "      <th>918</th>\n",
       "      <td>55</td>\n",
       "      <td>Male</td>\n",
       "      <td>asymptomatic</td>\n",
       "      <td>122.0</td>\n",
       "      <td>223.0</td>\n",
       "      <td>True</td>\n",
       "      <td>st-t abnormality</td>\n",
       "      <td>100.0</td>\n",
       "      <td>False</td>\n",
       "      <td>0.0</td>\n",
       "      <td>NaN</td>\n",
       "      <td>NaN</td>\n",
       "      <td>fixed defect</td>\n",
       "      <td>2</td>\n",
       "    </tr>\n",
       "    <tr>\n",
       "      <th>919</th>\n",
       "      <td>58</td>\n",
       "      <td>Male</td>\n",
       "      <td>asymptomatic</td>\n",
       "      <td>NaN</td>\n",
       "      <td>385.0</td>\n",
       "      <td>True</td>\n",
       "      <td>lv hypertrophy</td>\n",
       "      <td>NaN</td>\n",
       "      <td>NaN</td>\n",
       "      <td>NaN</td>\n",
       "      <td>NaN</td>\n",
       "      <td>NaN</td>\n",
       "      <td>NaN</td>\n",
       "      <td>0</td>\n",
       "    </tr>\n",
       "    <tr>\n",
       "      <th>920</th>\n",
       "      <td>62</td>\n",
       "      <td>Male</td>\n",
       "      <td>atypical angina</td>\n",
       "      <td>120.0</td>\n",
       "      <td>254.0</td>\n",
       "      <td>False</td>\n",
       "      <td>lv hypertrophy</td>\n",
       "      <td>93.0</td>\n",
       "      <td>True</td>\n",
       "      <td>0.0</td>\n",
       "      <td>NaN</td>\n",
       "      <td>NaN</td>\n",
       "      <td>NaN</td>\n",
       "      <td>1</td>\n",
       "    </tr>\n",
       "  </tbody>\n",
       "</table>\n",
       "<p>920 rows × 14 columns</p>\n",
       "</div>"
      ],
      "text/plain": [
       "     age     sex               cp  trestbps   chol    fbs           restecg  \\\n",
       "id                                                                            \n",
       "1     63    Male   typical angina     145.0  233.0   True    lv hypertrophy   \n",
       "2     67    Male     asymptomatic     160.0  286.0  False    lv hypertrophy   \n",
       "3     67    Male     asymptomatic     120.0  229.0  False    lv hypertrophy   \n",
       "4     37    Male      non-anginal     130.0  250.0  False            normal   \n",
       "5     41  Female  atypical angina     130.0  204.0  False    lv hypertrophy   \n",
       "..   ...     ...              ...       ...    ...    ...               ...   \n",
       "916   54  Female     asymptomatic     127.0  333.0   True  st-t abnormality   \n",
       "917   62    Male   typical angina       NaN  139.0  False  st-t abnormality   \n",
       "918   55    Male     asymptomatic     122.0  223.0   True  st-t abnormality   \n",
       "919   58    Male     asymptomatic       NaN  385.0   True    lv hypertrophy   \n",
       "920   62    Male  atypical angina     120.0  254.0  False    lv hypertrophy   \n",
       "\n",
       "     thalch  exang  oldpeak        slope   ca               thal  num  \n",
       "id                                                                     \n",
       "1     150.0  False      2.3  downsloping  0.0       fixed defect    0  \n",
       "2     108.0   True      1.5         flat  3.0             normal    2  \n",
       "3     129.0   True      2.6         flat  2.0  reversable defect    1  \n",
       "4     187.0  False      3.5  downsloping  0.0             normal    0  \n",
       "5     172.0  False      1.4    upsloping  0.0             normal    0  \n",
       "..      ...    ...      ...          ...  ...                ...  ...  \n",
       "916   154.0  False      0.0          NaN  NaN                NaN    1  \n",
       "917     NaN    NaN      NaN          NaN  NaN                NaN    0  \n",
       "918   100.0  False      0.0          NaN  NaN       fixed defect    2  \n",
       "919     NaN    NaN      NaN          NaN  NaN                NaN    0  \n",
       "920    93.0   True      0.0          NaN  NaN                NaN    1  \n",
       "\n",
       "[920 rows x 14 columns]"
      ]
     },
     "execution_count": 8,
     "metadata": {},
     "output_type": "execute_result"
    }
   ],
   "source": [
    "data"
   ]
  },
  {
   "cell_type": "code",
   "execution_count": 9,
   "id": "531cbb2b-da4b-4906-ae53-dbfacd0101e3",
   "metadata": {
    "execution": {
     "iopub.execute_input": "2025-09-14T12:41:30.688232Z",
     "iopub.status.busy": "2025-09-14T12:41:30.688232Z",
     "iopub.status.idle": "2025-09-14T12:41:30.697963Z",
     "shell.execute_reply": "2025-09-14T12:41:30.696958Z",
     "shell.execute_reply.started": "2025-09-14T12:41:30.688232Z"
    }
   },
   "outputs": [
    {
     "data": {
      "text/plain": [
       "age           0\n",
       "sex           0\n",
       "cp            0\n",
       "trestbps     59\n",
       "chol         30\n",
       "fbs          90\n",
       "restecg       2\n",
       "thalch       55\n",
       "exang        55\n",
       "oldpeak      62\n",
       "slope       309\n",
       "ca          611\n",
       "thal        486\n",
       "num           0\n",
       "dtype: int64"
      ]
     },
     "execution_count": 9,
     "metadata": {},
     "output_type": "execute_result"
    }
   ],
   "source": [
    "data.isnull().sum()"
   ]
  },
  {
   "cell_type": "code",
   "execution_count": 10,
   "id": "12a8b2b2-89e2-457f-b65d-5a97e03c69d1",
   "metadata": {
    "execution": {
     "iopub.execute_input": "2025-09-14T12:41:30.699963Z",
     "iopub.status.busy": "2025-09-14T12:41:30.699963Z",
     "iopub.status.idle": "2025-09-14T12:41:30.707486Z",
     "shell.execute_reply": "2025-09-14T12:41:30.706482Z",
     "shell.execute_reply.started": "2025-09-14T12:41:30.699963Z"
    }
   },
   "outputs": [
    {
     "data": {
      "text/plain": [
       "np.float64(132.13240418118468)"
      ]
     },
     "execution_count": 10,
     "metadata": {},
     "output_type": "execute_result"
    }
   ],
   "source": [
    "data['trestbps'].mean()"
   ]
  },
  {
   "cell_type": "code",
   "execution_count": 11,
   "id": "fb08cf67-6be1-4e1b-8447-2a108cc1d257",
   "metadata": {
    "execution": {
     "iopub.execute_input": "2025-09-14T12:41:30.708486Z",
     "iopub.status.busy": "2025-09-14T12:41:30.707486Z",
     "iopub.status.idle": "2025-09-14T12:41:30.713493Z",
     "shell.execute_reply": "2025-09-14T12:41:30.713493Z",
     "shell.execute_reply.started": "2025-09-14T12:41:30.708486Z"
    }
   },
   "outputs": [],
   "source": [
    "data['trestbps']=data['trestbps'].fillna(130)"
   ]
  },
  {
   "cell_type": "code",
   "execution_count": 12,
   "id": "9d476ed9-3d1b-4fa5-98dd-4a46edaeed85",
   "metadata": {
    "execution": {
     "iopub.execute_input": "2025-09-14T12:41:30.715005Z",
     "iopub.status.busy": "2025-09-14T12:41:30.715005Z",
     "iopub.status.idle": "2025-09-14T12:41:30.721900Z",
     "shell.execute_reply": "2025-09-14T12:41:30.720894Z",
     "shell.execute_reply.started": "2025-09-14T12:41:30.715005Z"
    }
   },
   "outputs": [
    {
     "data": {
      "text/plain": [
       "np.float64(199.13033707865168)"
      ]
     },
     "execution_count": 12,
     "metadata": {},
     "output_type": "execute_result"
    }
   ],
   "source": [
    "data['chol'].mean()"
   ]
  },
  {
   "cell_type": "code",
   "execution_count": 13,
   "id": "5bd08a94-9e7d-4aa0-a7d7-82ac4e3a830a",
   "metadata": {
    "execution": {
     "iopub.execute_input": "2025-09-14T12:41:30.721900Z",
     "iopub.status.busy": "2025-09-14T12:41:30.721900Z",
     "iopub.status.idle": "2025-09-14T12:41:30.727277Z",
     "shell.execute_reply": "2025-09-14T12:41:30.726272Z",
     "shell.execute_reply.started": "2025-09-14T12:41:30.721900Z"
    }
   },
   "outputs": [],
   "source": [
    "data['chol'] = data['chol'].fillna(199)"
   ]
  },
  {
   "cell_type": "code",
   "execution_count": 14,
   "id": "fc336f8e-8c32-4111-987b-37609b3492fa",
   "metadata": {
    "execution": {
     "iopub.execute_input": "2025-09-14T12:41:30.727277Z",
     "iopub.status.busy": "2025-09-14T12:41:30.727277Z",
     "iopub.status.idle": "2025-09-14T12:41:30.735224Z",
     "shell.execute_reply": "2025-09-14T12:41:30.734219Z",
     "shell.execute_reply.started": "2025-09-14T12:41:30.727277Z"
    }
   },
   "outputs": [
    {
     "data": {
      "text/plain": [
       "fbs\n",
       "False    692\n",
       "True     138\n",
       "Name: count, dtype: int64"
      ]
     },
     "execution_count": 14,
     "metadata": {},
     "output_type": "execute_result"
    }
   ],
   "source": [
    "data['fbs'].value_counts()"
   ]
  },
  {
   "cell_type": "code",
   "execution_count": 15,
   "id": "5764f99f-067d-4e4b-8c32-82319237f513",
   "metadata": {
    "execution": {
     "iopub.execute_input": "2025-09-14T12:41:30.735728Z",
     "iopub.status.busy": "2025-09-14T12:41:30.735728Z",
     "iopub.status.idle": "2025-09-14T12:41:30.742607Z",
     "shell.execute_reply": "2025-09-14T12:41:30.741603Z",
     "shell.execute_reply.started": "2025-09-14T12:41:30.735728Z"
    }
   },
   "outputs": [
    {
     "name": "stderr",
     "output_type": "stream",
     "text": [
      "C:\\Users\\kirsh\\AppData\\Local\\Temp\\ipykernel_38292\\3648554096.py:1: FutureWarning: Downcasting object dtype arrays on .fillna, .ffill, .bfill is deprecated and will change in a future version. Call result.infer_objects(copy=False) instead. To opt-in to the future behavior, set `pd.set_option('future.no_silent_downcasting', True)`\n",
      "  data['fbs']= data['fbs'].fillna(False).astype(bool)\n"
     ]
    }
   ],
   "source": [
    "data['fbs']= data['fbs'].fillna(False).astype(bool)"
   ]
  },
  {
   "cell_type": "code",
   "execution_count": 16,
   "id": "828605cc-0637-4eae-97b1-371ecdf59d80",
   "metadata": {
    "execution": {
     "iopub.execute_input": "2025-09-14T12:41:30.742607Z",
     "iopub.status.busy": "2025-09-14T12:41:30.742607Z",
     "iopub.status.idle": "2025-09-14T12:41:30.751984Z",
     "shell.execute_reply": "2025-09-14T12:41:30.750978Z",
     "shell.execute_reply.started": "2025-09-14T12:41:30.742607Z"
    }
   },
   "outputs": [
    {
     "data": {
      "text/plain": [
       "restecg\n",
       "normal              551\n",
       "lv hypertrophy      188\n",
       "st-t abnormality    179\n",
       "Name: count, dtype: int64"
      ]
     },
     "execution_count": 16,
     "metadata": {},
     "output_type": "execute_result"
    }
   ],
   "source": [
    "data['restecg'].value_counts()"
   ]
  },
  {
   "cell_type": "code",
   "execution_count": 17,
   "id": "ad12ad6c-9573-4293-8b54-4c9d14fd3e5b",
   "metadata": {
    "execution": {
     "iopub.execute_input": "2025-09-14T12:41:30.752985Z",
     "iopub.status.busy": "2025-09-14T12:41:30.751984Z",
     "iopub.status.idle": "2025-09-14T12:41:30.758320Z",
     "shell.execute_reply": "2025-09-14T12:41:30.757314Z",
     "shell.execute_reply.started": "2025-09-14T12:41:30.752985Z"
    }
   },
   "outputs": [],
   "source": [
    "data['restecg'] = data['restecg'].fillna('normal')"
   ]
  },
  {
   "cell_type": "code",
   "execution_count": 18,
   "id": "fb3b4af0-17a1-46c3-b053-2bb912123fe6",
   "metadata": {
    "execution": {
     "iopub.execute_input": "2025-09-14T12:41:30.759318Z",
     "iopub.status.busy": "2025-09-14T12:41:30.758320Z",
     "iopub.status.idle": "2025-09-14T12:41:30.765334Z",
     "shell.execute_reply": "2025-09-14T12:41:30.764824Z",
     "shell.execute_reply.started": "2025-09-14T12:41:30.759318Z"
    }
   },
   "outputs": [
    {
     "data": {
      "text/plain": [
       "np.float64(137.5456647398844)"
      ]
     },
     "execution_count": 18,
     "metadata": {},
     "output_type": "execute_result"
    }
   ],
   "source": [
    "data['thalch'].mean()"
   ]
  },
  {
   "cell_type": "code",
   "execution_count": 19,
   "id": "78cdf230-0e2e-4d85-8027-35fdf4b7b5ca",
   "metadata": {
    "execution": {
     "iopub.execute_input": "2025-09-14T12:41:30.766338Z",
     "iopub.status.busy": "2025-09-14T12:41:30.766338Z",
     "iopub.status.idle": "2025-09-14T12:41:30.770846Z",
     "shell.execute_reply": "2025-09-14T12:41:30.770343Z",
     "shell.execute_reply.started": "2025-09-14T12:41:30.766338Z"
    }
   },
   "outputs": [],
   "source": [
    "data['thalch'] = data['thalch'].fillna(140)"
   ]
  },
  {
   "cell_type": "code",
   "execution_count": 20,
   "id": "0944e652-0398-43bd-a6ac-00b332483ede",
   "metadata": {
    "execution": {
     "iopub.execute_input": "2025-09-14T12:41:30.771851Z",
     "iopub.status.busy": "2025-09-14T12:41:30.771851Z",
     "iopub.status.idle": "2025-09-14T12:41:30.778306Z",
     "shell.execute_reply": "2025-09-14T12:41:30.778306Z",
     "shell.execute_reply.started": "2025-09-14T12:41:30.771851Z"
    }
   },
   "outputs": [
    {
     "data": {
      "text/plain": [
       "exang\n",
       "False    528\n",
       "True     337\n",
       "Name: count, dtype: int64"
      ]
     },
     "execution_count": 20,
     "metadata": {},
     "output_type": "execute_result"
    }
   ],
   "source": [
    "data['exang'].value_counts()"
   ]
  },
  {
   "cell_type": "code",
   "execution_count": 21,
   "id": "206316c6-8a00-4f70-91bb-e767df533755",
   "metadata": {
    "execution": {
     "iopub.execute_input": "2025-09-14T12:41:30.779311Z",
     "iopub.status.busy": "2025-09-14T12:41:30.779311Z",
     "iopub.status.idle": "2025-09-14T12:41:30.784296Z",
     "shell.execute_reply": "2025-09-14T12:41:30.784296Z",
     "shell.execute_reply.started": "2025-09-14T12:41:30.779311Z"
    }
   },
   "outputs": [
    {
     "name": "stderr",
     "output_type": "stream",
     "text": [
      "C:\\Users\\kirsh\\AppData\\Local\\Temp\\ipykernel_38292\\258233684.py:1: FutureWarning: Downcasting object dtype arrays on .fillna, .ffill, .bfill is deprecated and will change in a future version. Call result.infer_objects(copy=False) instead. To opt-in to the future behavior, set `pd.set_option('future.no_silent_downcasting', True)`\n",
      "  data['exang'] = data['exang'].fillna(False).astype(bool)\n"
     ]
    }
   ],
   "source": [
    "data['exang'] = data['exang'].fillna(False).astype(bool)"
   ]
  },
  {
   "cell_type": "code",
   "execution_count": 22,
   "id": "b23d5114-2ca9-4d50-bf1f-d864f6d8acb9",
   "metadata": {
    "execution": {
     "iopub.execute_input": "2025-09-14T12:41:30.785806Z",
     "iopub.status.busy": "2025-09-14T12:41:30.785806Z",
     "iopub.status.idle": "2025-09-14T12:41:30.795064Z",
     "shell.execute_reply": "2025-09-14T12:41:30.794060Z",
     "shell.execute_reply.started": "2025-09-14T12:41:30.785806Z"
    }
   },
   "outputs": [
    {
     "data": {
      "text/plain": [
       "oldpeak\n",
       " 0.0    370\n",
       " 1.0     83\n",
       " 2.0     76\n",
       " 1.5     48\n",
       " 3.0     28\n",
       " 0.5     19\n",
       " 1.2     17\n",
       " 2.5     16\n",
       " 0.8     15\n",
       " 1.4     15\n",
       " 0.6     14\n",
       " 0.2     14\n",
       " 1.6     14\n",
       " 1.8     12\n",
       " 0.4     10\n",
       " 0.1      9\n",
       " 4.0      8\n",
       " 2.6      7\n",
       " 2.8      7\n",
       " 2.2      5\n",
       " 1.3      5\n",
       " 0.3      5\n",
       " 0.7      5\n",
       " 1.9      5\n",
       " 1.1      4\n",
       " 3.6      4\n",
       " 2.4      4\n",
       " 0.9      4\n",
       " 3.4      3\n",
       "-0.5      2\n",
       " 3.2      2\n",
       " 2.3      2\n",
       " 3.5      2\n",
       " 1.7      2\n",
       "-1.0      2\n",
       " 4.2      2\n",
       " 2.1      2\n",
       " 3.1      1\n",
       " 2.9      1\n",
       " 6.2      1\n",
       " 5.6      1\n",
       " 3.8      1\n",
       "-1.1      1\n",
       " 4.4      1\n",
       " 5.0      1\n",
       "-2.6      1\n",
       "-0.1      1\n",
       "-1.5      1\n",
       "-2.0      1\n",
       "-0.7      1\n",
       "-0.8      1\n",
       "-0.9      1\n",
       " 3.7      1\n",
       "Name: count, dtype: int64"
      ]
     },
     "execution_count": 22,
     "metadata": {},
     "output_type": "execute_result"
    }
   ],
   "source": [
    "data['oldpeak'].value_counts()"
   ]
  },
  {
   "cell_type": "code",
   "execution_count": 23,
   "id": "bc3e17e5-d6fb-4e28-b6e3-dcd4d917ab06",
   "metadata": {
    "execution": {
     "iopub.execute_input": "2025-09-14T12:41:30.795569Z",
     "iopub.status.busy": "2025-09-14T12:41:30.795569Z",
     "iopub.status.idle": "2025-09-14T12:41:30.800081Z",
     "shell.execute_reply": "2025-09-14T12:41:30.799578Z",
     "shell.execute_reply.started": "2025-09-14T12:41:30.795569Z"
    }
   },
   "outputs": [],
   "source": [
    "data['oldpeak'] = data['oldpeak'].fillna(0.0)"
   ]
  },
  {
   "cell_type": "code",
   "execution_count": 24,
   "id": "1054bc1b-d2aa-45ae-9e0f-b6e5809797ac",
   "metadata": {
    "execution": {
     "iopub.execute_input": "2025-09-14T12:41:30.801086Z",
     "iopub.status.busy": "2025-09-14T12:41:30.801086Z",
     "iopub.status.idle": "2025-09-14T12:41:30.808109Z",
     "shell.execute_reply": "2025-09-14T12:41:30.807605Z",
     "shell.execute_reply.started": "2025-09-14T12:41:30.801086Z"
    }
   },
   "outputs": [
    {
     "data": {
      "text/plain": [
       "slope\n",
       "flat           345\n",
       "upsloping      203\n",
       "downsloping     63\n",
       "Name: count, dtype: int64"
      ]
     },
     "execution_count": 24,
     "metadata": {},
     "output_type": "execute_result"
    }
   ],
   "source": [
    "data['slope'].value_counts()"
   ]
  },
  {
   "cell_type": "code",
   "execution_count": 25,
   "id": "47b1f292-137a-41f6-ad7f-b53a5a208327",
   "metadata": {
    "execution": {
     "iopub.execute_input": "2025-09-14T12:41:30.809114Z",
     "iopub.status.busy": "2025-09-14T12:41:30.809114Z",
     "iopub.status.idle": "2025-09-14T12:41:30.813733Z",
     "shell.execute_reply": "2025-09-14T12:41:30.813733Z",
     "shell.execute_reply.started": "2025-09-14T12:41:30.809114Z"
    }
   },
   "outputs": [],
   "source": [
    "data['slope'] = data['slope'].fillna('flat')"
   ]
  },
  {
   "cell_type": "code",
   "execution_count": 26,
   "id": "cd407223-08ce-4fda-9b84-0dbe916c9ddd",
   "metadata": {
    "execution": {
     "iopub.execute_input": "2025-09-14T12:41:30.815249Z",
     "iopub.status.busy": "2025-09-14T12:41:30.815249Z",
     "iopub.status.idle": "2025-09-14T12:41:30.821763Z",
     "shell.execute_reply": "2025-09-14T12:41:30.821259Z",
     "shell.execute_reply.started": "2025-09-14T12:41:30.815249Z"
    }
   },
   "outputs": [
    {
     "data": {
      "text/plain": [
       "np.float64(0.6763754045307443)"
      ]
     },
     "execution_count": 26,
     "metadata": {},
     "output_type": "execute_result"
    }
   ],
   "source": [
    "data['ca'].mean()"
   ]
  },
  {
   "cell_type": "code",
   "execution_count": 27,
   "id": "66f2ee1f-f411-47c5-a16f-f33571a6ff5c",
   "metadata": {
    "execution": {
     "iopub.execute_input": "2025-09-14T12:41:30.822768Z",
     "iopub.status.busy": "2025-09-14T12:41:30.822768Z",
     "iopub.status.idle": "2025-09-14T12:41:30.830485Z",
     "shell.execute_reply": "2025-09-14T12:41:30.830485Z",
     "shell.execute_reply.started": "2025-09-14T12:41:30.822768Z"
    }
   },
   "outputs": [
    {
     "data": {
      "text/plain": [
       "ca\n",
       "0.0    181\n",
       "1.0     67\n",
       "2.0     41\n",
       "3.0     20\n",
       "Name: count, dtype: int64"
      ]
     },
     "execution_count": 27,
     "metadata": {},
     "output_type": "execute_result"
    }
   ],
   "source": [
    "data['ca'].value_counts()"
   ]
  },
  {
   "cell_type": "code",
   "execution_count": 28,
   "id": "e2db976b-2520-47ca-a2cd-d7d52c86351d",
   "metadata": {
    "execution": {
     "iopub.execute_input": "2025-09-14T12:41:30.834993Z",
     "iopub.status.busy": "2025-09-14T12:41:30.834993Z",
     "iopub.status.idle": "2025-09-14T12:41:30.839236Z",
     "shell.execute_reply": "2025-09-14T12:41:30.839236Z",
     "shell.execute_reply.started": "2025-09-14T12:41:30.834993Z"
    }
   },
   "outputs": [],
   "source": [
    "data['ca']= data['ca'].fillna(0.0)"
   ]
  },
  {
   "cell_type": "code",
   "execution_count": 29,
   "id": "d911e4cc-0796-4ec9-8e37-ad7afe32f9a1",
   "metadata": {
    "execution": {
     "iopub.execute_input": "2025-09-14T12:41:30.841241Z",
     "iopub.status.busy": "2025-09-14T12:41:30.840240Z",
     "iopub.status.idle": "2025-09-14T12:41:30.848258Z",
     "shell.execute_reply": "2025-09-14T12:41:30.847754Z",
     "shell.execute_reply.started": "2025-09-14T12:41:30.841241Z"
    }
   },
   "outputs": [
    {
     "data": {
      "text/plain": [
       "thal\n",
       "normal               196\n",
       "reversable defect    192\n",
       "fixed defect          46\n",
       "Name: count, dtype: int64"
      ]
     },
     "execution_count": 29,
     "metadata": {},
     "output_type": "execute_result"
    }
   ],
   "source": [
    "data['thal'].value_counts()"
   ]
  },
  {
   "cell_type": "code",
   "execution_count": 30,
   "id": "1e3b581b-230f-4fc6-aba8-544f2902b7aa",
   "metadata": {
    "execution": {
     "iopub.execute_input": "2025-09-14T12:41:30.849263Z",
     "iopub.status.busy": "2025-09-14T12:41:30.849263Z",
     "iopub.status.idle": "2025-09-14T12:41:30.853546Z",
     "shell.execute_reply": "2025-09-14T12:41:30.852542Z",
     "shell.execute_reply.started": "2025-09-14T12:41:30.849263Z"
    }
   },
   "outputs": [],
   "source": [
    "data['thal'] = data['thal'].fillna('normal')"
   ]
  },
  {
   "cell_type": "code",
   "execution_count": 31,
   "id": "1ed483fd-1373-4640-9ba3-7ca4e1e13551",
   "metadata": {
    "execution": {
     "iopub.execute_input": "2025-09-14T12:41:30.855051Z",
     "iopub.status.busy": "2025-09-14T12:41:30.853546Z",
     "iopub.status.idle": "2025-09-14T12:41:30.862314Z",
     "shell.execute_reply": "2025-09-14T12:41:30.862314Z",
     "shell.execute_reply.started": "2025-09-14T12:41:30.855051Z"
    }
   },
   "outputs": [
    {
     "data": {
      "text/plain": [
       "age         0\n",
       "sex         0\n",
       "cp          0\n",
       "trestbps    0\n",
       "chol        0\n",
       "fbs         0\n",
       "restecg     0\n",
       "thalch      0\n",
       "exang       0\n",
       "oldpeak     0\n",
       "slope       0\n",
       "ca          0\n",
       "thal        0\n",
       "num         0\n",
       "dtype: int64"
      ]
     },
     "execution_count": 31,
     "metadata": {},
     "output_type": "execute_result"
    }
   ],
   "source": [
    "data.isnull().sum()"
   ]
  },
  {
   "cell_type": "code",
   "execution_count": 32,
   "id": "e4f54a39-d84b-43f5-94bc-58164f73891f",
   "metadata": {
    "execution": {
     "iopub.execute_input": "2025-09-14T12:41:30.863319Z",
     "iopub.status.busy": "2025-09-14T12:41:30.863319Z",
     "iopub.status.idle": "2025-09-14T12:41:30.886975Z",
     "shell.execute_reply": "2025-09-14T12:41:30.885971Z",
     "shell.execute_reply.started": "2025-09-14T12:41:30.863319Z"
    }
   },
   "outputs": [
    {
     "data": {
      "text/html": [
       "<div>\n",
       "<style scoped>\n",
       "    .dataframe tbody tr th:only-of-type {\n",
       "        vertical-align: middle;\n",
       "    }\n",
       "\n",
       "    .dataframe tbody tr th {\n",
       "        vertical-align: top;\n",
       "    }\n",
       "\n",
       "    .dataframe thead th {\n",
       "        text-align: right;\n",
       "    }\n",
       "</style>\n",
       "<table border=\"1\" class=\"dataframe\">\n",
       "  <thead>\n",
       "    <tr style=\"text-align: right;\">\n",
       "      <th></th>\n",
       "      <th>age</th>\n",
       "      <th>sex</th>\n",
       "      <th>cp</th>\n",
       "      <th>trestbps</th>\n",
       "      <th>chol</th>\n",
       "      <th>fbs</th>\n",
       "      <th>restecg</th>\n",
       "      <th>thalch</th>\n",
       "      <th>exang</th>\n",
       "      <th>oldpeak</th>\n",
       "      <th>slope</th>\n",
       "      <th>ca</th>\n",
       "      <th>thal</th>\n",
       "      <th>num</th>\n",
       "    </tr>\n",
       "    <tr>\n",
       "      <th>id</th>\n",
       "      <th></th>\n",
       "      <th></th>\n",
       "      <th></th>\n",
       "      <th></th>\n",
       "      <th></th>\n",
       "      <th></th>\n",
       "      <th></th>\n",
       "      <th></th>\n",
       "      <th></th>\n",
       "      <th></th>\n",
       "      <th></th>\n",
       "      <th></th>\n",
       "      <th></th>\n",
       "      <th></th>\n",
       "    </tr>\n",
       "  </thead>\n",
       "  <tbody>\n",
       "    <tr>\n",
       "      <th>1</th>\n",
       "      <td>63</td>\n",
       "      <td>Male</td>\n",
       "      <td>typical angina</td>\n",
       "      <td>145.0</td>\n",
       "      <td>233.0</td>\n",
       "      <td>True</td>\n",
       "      <td>lv hypertrophy</td>\n",
       "      <td>150.0</td>\n",
       "      <td>False</td>\n",
       "      <td>2.3</td>\n",
       "      <td>downsloping</td>\n",
       "      <td>0.0</td>\n",
       "      <td>fixed defect</td>\n",
       "      <td>0</td>\n",
       "    </tr>\n",
       "    <tr>\n",
       "      <th>2</th>\n",
       "      <td>67</td>\n",
       "      <td>Male</td>\n",
       "      <td>asymptomatic</td>\n",
       "      <td>160.0</td>\n",
       "      <td>286.0</td>\n",
       "      <td>False</td>\n",
       "      <td>lv hypertrophy</td>\n",
       "      <td>108.0</td>\n",
       "      <td>True</td>\n",
       "      <td>1.5</td>\n",
       "      <td>flat</td>\n",
       "      <td>3.0</td>\n",
       "      <td>normal</td>\n",
       "      <td>2</td>\n",
       "    </tr>\n",
       "    <tr>\n",
       "      <th>3</th>\n",
       "      <td>67</td>\n",
       "      <td>Male</td>\n",
       "      <td>asymptomatic</td>\n",
       "      <td>120.0</td>\n",
       "      <td>229.0</td>\n",
       "      <td>False</td>\n",
       "      <td>lv hypertrophy</td>\n",
       "      <td>129.0</td>\n",
       "      <td>True</td>\n",
       "      <td>2.6</td>\n",
       "      <td>flat</td>\n",
       "      <td>2.0</td>\n",
       "      <td>reversable defect</td>\n",
       "      <td>1</td>\n",
       "    </tr>\n",
       "    <tr>\n",
       "      <th>4</th>\n",
       "      <td>37</td>\n",
       "      <td>Male</td>\n",
       "      <td>non-anginal</td>\n",
       "      <td>130.0</td>\n",
       "      <td>250.0</td>\n",
       "      <td>False</td>\n",
       "      <td>normal</td>\n",
       "      <td>187.0</td>\n",
       "      <td>False</td>\n",
       "      <td>3.5</td>\n",
       "      <td>downsloping</td>\n",
       "      <td>0.0</td>\n",
       "      <td>normal</td>\n",
       "      <td>0</td>\n",
       "    </tr>\n",
       "    <tr>\n",
       "      <th>5</th>\n",
       "      <td>41</td>\n",
       "      <td>Female</td>\n",
       "      <td>atypical angina</td>\n",
       "      <td>130.0</td>\n",
       "      <td>204.0</td>\n",
       "      <td>False</td>\n",
       "      <td>lv hypertrophy</td>\n",
       "      <td>172.0</td>\n",
       "      <td>False</td>\n",
       "      <td>1.4</td>\n",
       "      <td>upsloping</td>\n",
       "      <td>0.0</td>\n",
       "      <td>normal</td>\n",
       "      <td>0</td>\n",
       "    </tr>\n",
       "    <tr>\n",
       "      <th>...</th>\n",
       "      <td>...</td>\n",
       "      <td>...</td>\n",
       "      <td>...</td>\n",
       "      <td>...</td>\n",
       "      <td>...</td>\n",
       "      <td>...</td>\n",
       "      <td>...</td>\n",
       "      <td>...</td>\n",
       "      <td>...</td>\n",
       "      <td>...</td>\n",
       "      <td>...</td>\n",
       "      <td>...</td>\n",
       "      <td>...</td>\n",
       "      <td>...</td>\n",
       "    </tr>\n",
       "    <tr>\n",
       "      <th>916</th>\n",
       "      <td>54</td>\n",
       "      <td>Female</td>\n",
       "      <td>asymptomatic</td>\n",
       "      <td>127.0</td>\n",
       "      <td>333.0</td>\n",
       "      <td>True</td>\n",
       "      <td>st-t abnormality</td>\n",
       "      <td>154.0</td>\n",
       "      <td>False</td>\n",
       "      <td>0.0</td>\n",
       "      <td>flat</td>\n",
       "      <td>0.0</td>\n",
       "      <td>normal</td>\n",
       "      <td>1</td>\n",
       "    </tr>\n",
       "    <tr>\n",
       "      <th>917</th>\n",
       "      <td>62</td>\n",
       "      <td>Male</td>\n",
       "      <td>typical angina</td>\n",
       "      <td>130.0</td>\n",
       "      <td>139.0</td>\n",
       "      <td>False</td>\n",
       "      <td>st-t abnormality</td>\n",
       "      <td>140.0</td>\n",
       "      <td>False</td>\n",
       "      <td>0.0</td>\n",
       "      <td>flat</td>\n",
       "      <td>0.0</td>\n",
       "      <td>normal</td>\n",
       "      <td>0</td>\n",
       "    </tr>\n",
       "    <tr>\n",
       "      <th>918</th>\n",
       "      <td>55</td>\n",
       "      <td>Male</td>\n",
       "      <td>asymptomatic</td>\n",
       "      <td>122.0</td>\n",
       "      <td>223.0</td>\n",
       "      <td>True</td>\n",
       "      <td>st-t abnormality</td>\n",
       "      <td>100.0</td>\n",
       "      <td>False</td>\n",
       "      <td>0.0</td>\n",
       "      <td>flat</td>\n",
       "      <td>0.0</td>\n",
       "      <td>fixed defect</td>\n",
       "      <td>2</td>\n",
       "    </tr>\n",
       "    <tr>\n",
       "      <th>919</th>\n",
       "      <td>58</td>\n",
       "      <td>Male</td>\n",
       "      <td>asymptomatic</td>\n",
       "      <td>130.0</td>\n",
       "      <td>385.0</td>\n",
       "      <td>True</td>\n",
       "      <td>lv hypertrophy</td>\n",
       "      <td>140.0</td>\n",
       "      <td>False</td>\n",
       "      <td>0.0</td>\n",
       "      <td>flat</td>\n",
       "      <td>0.0</td>\n",
       "      <td>normal</td>\n",
       "      <td>0</td>\n",
       "    </tr>\n",
       "    <tr>\n",
       "      <th>920</th>\n",
       "      <td>62</td>\n",
       "      <td>Male</td>\n",
       "      <td>atypical angina</td>\n",
       "      <td>120.0</td>\n",
       "      <td>254.0</td>\n",
       "      <td>False</td>\n",
       "      <td>lv hypertrophy</td>\n",
       "      <td>93.0</td>\n",
       "      <td>True</td>\n",
       "      <td>0.0</td>\n",
       "      <td>flat</td>\n",
       "      <td>0.0</td>\n",
       "      <td>normal</td>\n",
       "      <td>1</td>\n",
       "    </tr>\n",
       "  </tbody>\n",
       "</table>\n",
       "<p>920 rows × 14 columns</p>\n",
       "</div>"
      ],
      "text/plain": [
       "     age     sex               cp  trestbps   chol    fbs           restecg  \\\n",
       "id                                                                            \n",
       "1     63    Male   typical angina     145.0  233.0   True    lv hypertrophy   \n",
       "2     67    Male     asymptomatic     160.0  286.0  False    lv hypertrophy   \n",
       "3     67    Male     asymptomatic     120.0  229.0  False    lv hypertrophy   \n",
       "4     37    Male      non-anginal     130.0  250.0  False            normal   \n",
       "5     41  Female  atypical angina     130.0  204.0  False    lv hypertrophy   \n",
       "..   ...     ...              ...       ...    ...    ...               ...   \n",
       "916   54  Female     asymptomatic     127.0  333.0   True  st-t abnormality   \n",
       "917   62    Male   typical angina     130.0  139.0  False  st-t abnormality   \n",
       "918   55    Male     asymptomatic     122.0  223.0   True  st-t abnormality   \n",
       "919   58    Male     asymptomatic     130.0  385.0   True    lv hypertrophy   \n",
       "920   62    Male  atypical angina     120.0  254.0  False    lv hypertrophy   \n",
       "\n",
       "     thalch  exang  oldpeak        slope   ca               thal  num  \n",
       "id                                                                     \n",
       "1     150.0  False      2.3  downsloping  0.0       fixed defect    0  \n",
       "2     108.0   True      1.5         flat  3.0             normal    2  \n",
       "3     129.0   True      2.6         flat  2.0  reversable defect    1  \n",
       "4     187.0  False      3.5  downsloping  0.0             normal    0  \n",
       "5     172.0  False      1.4    upsloping  0.0             normal    0  \n",
       "..      ...    ...      ...          ...  ...                ...  ...  \n",
       "916   154.0  False      0.0         flat  0.0             normal    1  \n",
       "917   140.0  False      0.0         flat  0.0             normal    0  \n",
       "918   100.0  False      0.0         flat  0.0       fixed defect    2  \n",
       "919   140.0  False      0.0         flat  0.0             normal    0  \n",
       "920    93.0   True      0.0         flat  0.0             normal    1  \n",
       "\n",
       "[920 rows x 14 columns]"
      ]
     },
     "execution_count": 32,
     "metadata": {},
     "output_type": "execute_result"
    }
   ],
   "source": [
    "data"
   ]
  },
  {
   "cell_type": "code",
   "execution_count": 33,
   "id": "fa02143f-4925-4b9e-8ecc-d458790b9bbb",
   "metadata": {
    "execution": {
     "iopub.execute_input": "2025-09-14T12:41:30.887979Z",
     "iopub.status.busy": "2025-09-14T12:41:30.887979Z",
     "iopub.status.idle": "2025-09-14T12:41:30.895002Z",
     "shell.execute_reply": "2025-09-14T12:41:30.894484Z",
     "shell.execute_reply.started": "2025-09-14T12:41:30.887979Z"
    }
   },
   "outputs": [
    {
     "data": {
      "text/plain": [
       "num\n",
       "0    411\n",
       "1    265\n",
       "2    109\n",
       "3    107\n",
       "4     28\n",
       "Name: count, dtype: int64"
      ]
     },
     "execution_count": 33,
     "metadata": {},
     "output_type": "execute_result"
    }
   ],
   "source": [
    "data[\"num\"].value_counts()"
   ]
  },
  {
   "cell_type": "code",
   "execution_count": 34,
   "id": "4fd655e8-a92a-4225-974d-49b7e54e2468",
   "metadata": {
    "execution": {
     "iopub.execute_input": "2025-09-14T12:41:30.896365Z",
     "iopub.status.busy": "2025-09-14T12:41:30.896365Z",
     "iopub.status.idle": "2025-09-14T12:41:31.596451Z",
     "shell.execute_reply": "2025-09-14T12:41:31.596451Z",
     "shell.execute_reply.started": "2025-09-14T12:41:30.896365Z"
    }
   },
   "outputs": [
    {
     "data": {
      "image/png": "[encoded data removed]",
      "text/plain": [
       "<Figure size 1800x1400 with 4 Axes>"
      ]
     },
     "metadata": {},
     "output_type": "display_data"
    }
   ],
   "source": [
    "fig, axes = plt.subplots(2, 2, figsize=(18, 14))\n",
    "fig.suptitle('Key Features vs. Heart Disease', fontsize=16)\n",
    "\n",
    "sns.histplot(ax=axes[0, 0], data=data, x='age', hue='num', multiple='stack', palette='plasma').set_title('Age Distribution by Target')\n",
    "\n",
    "sns.boxplot(ax=axes[0, 1], data=data, x='num', y='thalch', palette='magma', hue='num', legend=False).set_title('Max Heart Rate by Target')\n",
    "\n",
    "cp_plot = sns.countplot(ax=axes[1, 0], data=data, x='cp', hue='num', palette='cividis')\n",
    "cp_plot.set_title('Chest Pain Type by Target')\n",
    "cp_plot.set_xticks(range(len(data['cp'].unique())))\n",
    "cp_plot.set_xticklabels(['Typical Angina', 'Atypical Angina', 'Non-anginal Pain', 'Asymptomatic'])\n",
    "\n",
    "sex_plot = sns.countplot(ax=axes[1, 1], data=data, x='sex', hue='num', palette='inferno')\n",
    "sex_plot.set_title('Sex by Target')\n",
    "sex_plot.set_xticks(range(len(data['sex'].unique())))\n",
    "sex_plot.set_xticklabels(['Female', 'Male'])\n",
    "\n",
    "plt.tight_layout(rect=[0, 0, 1, 0.96])\n",
    "plt.show()"
   ]
  },
  {
   "cell_type": "code",
   "execution_count": 35,
   "id": "0b7b0d07-9aec-469d-8da9-12a3a61e0079",
   "metadata": {
    "execution": {
     "iopub.execute_input": "2025-09-14T12:41:31.597456Z",
     "iopub.status.busy": "2025-09-14T12:41:31.597456Z",
     "iopub.status.idle": "2025-09-14T12:41:31.829902Z",
     "shell.execute_reply": "2025-09-14T12:41:31.829399Z",
     "shell.execute_reply.started": "2025-09-14T12:41:31.597456Z"
    }
   },
   "outputs": [
    {
     "data": {
      "image/png": "[encoded data removed]",
      "text/plain": [
       "<Figure size 1600x1200 with 2 Axes>"
      ]
     },
     "metadata": {},
     "output_type": "display_data"
    }
   ],
   "source": [
    "# Correlation Heatmap\n",
    "plt.figure(figsize=(16, 12))\n",
    "# Select only numerical columns for correlation calculation\n",
    "numerical_data = data.select_dtypes(include=np.number)\n",
    "sns.heatmap(numerical_data.corr(), annot=True, cmap='coolwarm', fmt='.2f')\n",
    "plt.title('Correlation Matrix of Numerical Features')\n",
    "plt.show()"
   ]
  },
  {
   "cell_type": "code",
   "execution_count": 36,
   "id": "bfa08fac-790d-4611-b1b7-b24945e606de",
   "metadata": {
    "execution": {
     "iopub.execute_input": "2025-09-14T12:41:31.830906Z",
     "iopub.status.busy": "2025-09-14T12:41:31.830906Z",
     "iopub.status.idle": "2025-09-14T12:41:31.833723Z",
     "shell.execute_reply": "2025-09-14T12:41:31.833723Z",
     "shell.execute_reply.started": "2025-09-14T12:41:31.830906Z"
    }
   },
   "outputs": [],
   "source": [
    "categorical_features = ['sex', 'cp', 'fbs', 'restecg', 'exang', 'slope', 'thal']\n",
    "numerical_features = ['age', 'trestbps', 'chol', 'thalach', 'oldpeak', 'ca']"
   ]
  },
  {
   "cell_type": "code",
   "execution_count": 37,
   "id": "f3821d6c-a353-4682-9a66-8e68b130314b",
   "metadata": {
    "execution": {
     "iopub.execute_input": "2025-09-14T12:41:31.835234Z",
     "iopub.status.busy": "2025-09-14T12:41:31.835234Z",
     "iopub.status.idle": "2025-09-14T12:41:31.840750Z",
     "shell.execute_reply": "2025-09-14T12:41:31.840245Z",
     "shell.execute_reply.started": "2025-09-14T12:41:31.835234Z"
    }
   },
   "outputs": [],
   "source": [
    "X = data.drop(['num'], axis=1)\n",
    "Y = data['num']"
   ]
  },
  {
   "cell_type": "code",
   "execution_count": 38,
   "id": "9ed5e48a-74f9-42da-a2d4-322032ed4261",
   "metadata": {
    "execution": {
     "iopub.execute_input": "2025-09-14T12:41:31.841756Z",
     "iopub.status.busy": "2025-09-14T12:41:31.841756Z",
     "iopub.status.idle": "2025-09-14T12:41:31.853553Z",
     "shell.execute_reply": "2025-09-14T12:41:31.853553Z",
     "shell.execute_reply.started": "2025-09-14T12:41:31.841756Z"
    }
   },
   "outputs": [
    {
     "data": {
      "text/html": [
       "<div>\n",
       "<style scoped>\n",
       "    .dataframe tbody tr th:only-of-type {\n",
       "        vertical-align: middle;\n",
       "    }\n",
       "\n",
       "    .dataframe tbody tr th {\n",
       "        vertical-align: top;\n",
       "    }\n",
       "\n",
       "    .dataframe thead th {\n",
       "        text-align: right;\n",
       "    }\n",
       "</style>\n",
       "<table border=\"1\" class=\"dataframe\">\n",
       "  <thead>\n",
       "    <tr style=\"text-align: right;\">\n",
       "      <th></th>\n",
       "      <th>age</th>\n",
       "      <th>sex</th>\n",
       "      <th>cp</th>\n",
       "      <th>trestbps</th>\n",
       "      <th>chol</th>\n",
       "      <th>fbs</th>\n",
       "      <th>restecg</th>\n",
       "      <th>thalch</th>\n",
       "      <th>exang</th>\n",
       "      <th>oldpeak</th>\n",
       "      <th>slope</th>\n",
       "      <th>ca</th>\n",
       "      <th>thal</th>\n",
       "    </tr>\n",
       "    <tr>\n",
       "      <th>id</th>\n",
       "      <th></th>\n",
       "      <th></th>\n",
       "      <th></th>\n",
       "      <th></th>\n",
       "      <th></th>\n",
       "      <th></th>\n",
       "      <th></th>\n",
       "      <th></th>\n",
       "      <th></th>\n",
       "      <th></th>\n",
       "      <th></th>\n",
       "      <th></th>\n",
       "      <th></th>\n",
       "    </tr>\n",
       "  </thead>\n",
       "  <tbody>\n",
       "    <tr>\n",
       "      <th>1</th>\n",
       "      <td>63</td>\n",
       "      <td>Male</td>\n",
       "      <td>typical angina</td>\n",
       "      <td>145.0</td>\n",
       "      <td>233.0</td>\n",
       "      <td>True</td>\n",
       "      <td>lv hypertrophy</td>\n",
       "      <td>150.0</td>\n",
       "      <td>False</td>\n",
       "      <td>2.3</td>\n",
       "      <td>downsloping</td>\n",
       "      <td>0.0</td>\n",
       "      <td>fixed defect</td>\n",
       "    </tr>\n",
       "    <tr>\n",
       "      <th>2</th>\n",
       "      <td>67</td>\n",
       "      <td>Male</td>\n",
       "      <td>asymptomatic</td>\n",
       "      <td>160.0</td>\n",
       "      <td>286.0</td>\n",
       "      <td>False</td>\n",
       "      <td>lv hypertrophy</td>\n",
       "      <td>108.0</td>\n",
       "      <td>True</td>\n",
       "      <td>1.5</td>\n",
       "      <td>flat</td>\n",
       "      <td>3.0</td>\n",
       "      <td>normal</td>\n",
       "    </tr>\n",
       "    <tr>\n",
       "      <th>3</th>\n",
       "      <td>67</td>\n",
       "      <td>Male</td>\n",
       "      <td>asymptomatic</td>\n",
       "      <td>120.0</td>\n",
       "      <td>229.0</td>\n",
       "      <td>False</td>\n",
       "      <td>lv hypertrophy</td>\n",
       "      <td>129.0</td>\n",
       "      <td>True</td>\n",
       "      <td>2.6</td>\n",
       "      <td>flat</td>\n",
       "      <td>2.0</td>\n",
       "      <td>reversable defect</td>\n",
       "    </tr>\n",
       "    <tr>\n",
       "      <th>4</th>\n",
       "      <td>37</td>\n",
       "      <td>Male</td>\n",
       "      <td>non-anginal</td>\n",
       "      <td>130.0</td>\n",
       "      <td>250.0</td>\n",
       "      <td>False</td>\n",
       "      <td>normal</td>\n",
       "      <td>187.0</td>\n",
       "      <td>False</td>\n",
       "      <td>3.5</td>\n",
       "      <td>downsloping</td>\n",
       "      <td>0.0</td>\n",
       "      <td>normal</td>\n",
       "    </tr>\n",
       "    <tr>\n",
       "      <th>5</th>\n",
       "      <td>41</td>\n",
       "      <td>Female</td>\n",
       "      <td>atypical angina</td>\n",
       "      <td>130.0</td>\n",
       "      <td>204.0</td>\n",
       "      <td>False</td>\n",
       "      <td>lv hypertrophy</td>\n",
       "      <td>172.0</td>\n",
       "      <td>False</td>\n",
       "      <td>1.4</td>\n",
       "      <td>upsloping</td>\n",
       "      <td>0.0</td>\n",
       "      <td>normal</td>\n",
       "    </tr>\n",
       "    <tr>\n",
       "      <th>...</th>\n",
       "      <td>...</td>\n",
       "      <td>...</td>\n",
       "      <td>...</td>\n",
       "      <td>...</td>\n",
       "      <td>...</td>\n",
       "      <td>...</td>\n",
       "      <td>...</td>\n",
       "      <td>...</td>\n",
       "      <td>...</td>\n",
       "      <td>...</td>\n",
       "      <td>...</td>\n",
       "      <td>...</td>\n",
       "      <td>...</td>\n",
       "    </tr>\n",
       "    <tr>\n",
       "      <th>916</th>\n",
       "      <td>54</td>\n",
       "      <td>Female</td>\n",
       "      <td>asymptomatic</td>\n",
       "      <td>127.0</td>\n",
       "      <td>333.0</td>\n",
       "      <td>True</td>\n",
       "      <td>st-t abnormality</td>\n",
       "      <td>154.0</td>\n",
       "      <td>False</td>\n",
       "      <td>0.0</td>\n",
       "      <td>flat</td>\n",
       "      <td>0.0</td>\n",
       "      <td>normal</td>\n",
       "    </tr>\n",
       "    <tr>\n",
       "      <th>917</th>\n",
       "      <td>62</td>\n",
       "      <td>Male</td>\n",
       "      <td>typical angina</td>\n",
       "      <td>130.0</td>\n",
       "      <td>139.0</td>\n",
       "      <td>False</td>\n",
       "      <td>st-t abnormality</td>\n",
       "      <td>140.0</td>\n",
       "      <td>False</td>\n",
       "      <td>0.0</td>\n",
       "      <td>flat</td>\n",
       "      <td>0.0</td>\n",
       "      <td>normal</td>\n",
       "    </tr>\n",
       "    <tr>\n",
       "      <th>918</th>\n",
       "      <td>55</td>\n",
       "      <td>Male</td>\n",
       "      <td>asymptomatic</td>\n",
       "      <td>122.0</td>\n",
       "      <td>223.0</td>\n",
       "      <td>True</td>\n",
       "      <td>st-t abnormality</td>\n",
       "      <td>100.0</td>\n",
       "      <td>False</td>\n",
       "      <td>0.0</td>\n",
       "      <td>flat</td>\n",
       "      <td>0.0</td>\n",
       "      <td>fixed defect</td>\n",
       "    </tr>\n",
       "    <tr>\n",
       "      <th>919</th>\n",
       "      <td>58</td>\n",
       "      <td>Male</td>\n",
       "      <td>asymptomatic</td>\n",
       "      <td>130.0</td>\n",
       "      <td>385.0</td>\n",
       "      <td>True</td>\n",
       "      <td>lv hypertrophy</td>\n",
       "      <td>140.0</td>\n",
       "      <td>False</td>\n",
       "      <td>0.0</td>\n",
       "      <td>flat</td>\n",
       "      <td>0.0</td>\n",
       "      <td>normal</td>\n",
       "    </tr>\n",
       "    <tr>\n",
       "      <th>920</th>\n",
       "      <td>62</td>\n",
       "      <td>Male</td>\n",
       "      <td>atypical angina</td>\n",
       "      <td>120.0</td>\n",
       "      <td>254.0</td>\n",
       "      <td>False</td>\n",
       "      <td>lv hypertrophy</td>\n",
       "      <td>93.0</td>\n",
       "      <td>True</td>\n",
       "      <td>0.0</td>\n",
       "      <td>flat</td>\n",
       "      <td>0.0</td>\n",
       "      <td>normal</td>\n",
       "    </tr>\n",
       "  </tbody>\n",
       "</table>\n",
       "<p>920 rows × 13 columns</p>\n",
       "</div>"
      ],
      "text/plain": [
       "     age     sex               cp  trestbps   chol    fbs           restecg  \\\n",
       "id                                                                            \n",
       "1     63    Male   typical angina     145.0  233.0   True    lv hypertrophy   \n",
       "2     67    Male     asymptomatic     160.0  286.0  False    lv hypertrophy   \n",
       "3     67    Male     asymptomatic     120.0  229.0  False    lv hypertrophy   \n",
       "4     37    Male      non-anginal     130.0  250.0  False            normal   \n",
       "5     41  Female  atypical angina     130.0  204.0  False    lv hypertrophy   \n",
       "..   ...     ...              ...       ...    ...    ...               ...   \n",
       "916   54  Female     asymptomatic     127.0  333.0   True  st-t abnormality   \n",
       "917   62    Male   typical angina     130.0  139.0  False  st-t abnormality   \n",
       "918   55    Male     asymptomatic     122.0  223.0   True  st-t abnormality   \n",
       "919   58    Male     asymptomatic     130.0  385.0   True    lv hypertrophy   \n",
       "920   62    Male  atypical angina     120.0  254.0  False    lv hypertrophy   \n",
       "\n",
       "     thalch  exang  oldpeak        slope   ca               thal  \n",
       "id                                                                \n",
       "1     150.0  False      2.3  downsloping  0.0       fixed defect  \n",
       "2     108.0   True      1.5         flat  3.0             normal  \n",
       "3     129.0   True      2.6         flat  2.0  reversable defect  \n",
       "4     187.0  False      3.5  downsloping  0.0             normal  \n",
       "5     172.0  False      1.4    upsloping  0.0             normal  \n",
       "..      ...    ...      ...          ...  ...                ...  \n",
       "916   154.0  False      0.0         flat  0.0             normal  \n",
       "917   140.0  False      0.0         flat  0.0             normal  \n",
       "918   100.0  False      0.0         flat  0.0       fixed defect  \n",
       "919   140.0  False      0.0         flat  0.0             normal  \n",
       "920    93.0   True      0.0         flat  0.0             normal  \n",
       "\n",
       "[920 rows x 13 columns]"
      ]
     },
     "execution_count": 38,
     "metadata": {},
     "output_type": "execute_result"
    }
   ],
   "source": [
    "X"
   ]
  },
  {
   "cell_type": "code",
   "execution_count": 39,
   "id": "3c9d77a2-9466-4ab7-9fd2-8c1c947d16b0",
   "metadata": {
    "execution": {
     "iopub.execute_input": "2025-09-14T12:41:31.855065Z",
     "iopub.status.busy": "2025-09-14T12:41:31.853553Z",
     "iopub.status.idle": "2025-09-14T12:41:31.858436Z",
     "shell.execute_reply": "2025-09-14T12:41:31.857430Z",
     "shell.execute_reply.started": "2025-09-14T12:41:31.855065Z"
    }
   },
   "outputs": [],
   "source": [
    "scaler = StandardScaler()\n",
    "ohe = OneHotEncoder()\n",
    "Le = LabelEncoder()\n",
    "Oe = OrdinalEncoder()"
   ]
  },
  {
   "cell_type": "code",
   "execution_count": 40,
   "id": "9b2e1fcc-9b2d-4d70-b274-44137e8d443a",
   "metadata": {
    "execution": {
     "iopub.execute_input": "2025-09-14T12:41:31.859436Z",
     "iopub.status.busy": "2025-09-14T12:41:31.858436Z",
     "iopub.status.idle": "2025-09-14T12:41:31.864939Z",
     "shell.execute_reply": "2025-09-14T12:41:31.864939Z",
     "shell.execute_reply.started": "2025-09-14T12:41:31.859436Z"
    }
   },
   "outputs": [],
   "source": [
    "categorical_features = X[['sex', 'cp', 'fbs', 'restecg', 'exang', 'slope', 'thal']]\n",
    "numerical_features =X[['age', 'trestbps', 'chol', 'thalch', 'oldpeak', 'ca']]"
   ]
  },
  {
   "cell_type": "code",
   "execution_count": 41,
   "id": "57bc3bb6-1896-4fdf-b725-f4aa154a61e8",
   "metadata": {
    "execution": {
     "iopub.execute_input": "2025-09-14T12:41:31.865944Z",
     "iopub.status.busy": "2025-09-14T12:41:31.865944Z",
     "iopub.status.idle": "2025-09-14T12:41:31.870777Z",
     "shell.execute_reply": "2025-09-14T12:41:31.870777Z",
     "shell.execute_reply.started": "2025-09-14T12:41:31.865944Z"
    }
   },
   "outputs": [],
   "source": [
    "for i in categorical_features:\n",
    "    X[i] = Le.fit_transform(X[i])"
   ]
  },
  {
   "cell_type": "code",
   "execution_count": 42,
   "id": "9076f0cf-10b3-42a9-baef-c84be8cc0327",
   "metadata": {
    "execution": {
     "iopub.execute_input": "2025-09-14T12:41:31.871782Z",
     "iopub.status.busy": "2025-09-14T12:41:31.871782Z",
     "iopub.status.idle": "2025-09-14T12:41:31.886808Z",
     "shell.execute_reply": "2025-09-14T12:41:31.885802Z",
     "shell.execute_reply.started": "2025-09-14T12:41:31.871782Z"
    }
   },
   "outputs": [
    {
     "data": {
      "text/html": [
       "<div>\n",
       "<style scoped>\n",
       "    .dataframe tbody tr th:only-of-type {\n",
       "        vertical-align: middle;\n",
       "    }\n",
       "\n",
       "    .dataframe tbody tr th {\n",
       "        vertical-align: top;\n",
       "    }\n",
       "\n",
       "    .dataframe thead th {\n",
       "        text-align: right;\n",
       "    }\n",
       "</style>\n",
       "<table border=\"1\" class=\"dataframe\">\n",
       "  <thead>\n",
       "    <tr style=\"text-align: right;\">\n",
       "      <th></th>\n",
       "      <th>age</th>\n",
       "      <th>sex</th>\n",
       "      <th>cp</th>\n",
       "      <th>trestbps</th>\n",
       "      <th>chol</th>\n",
       "      <th>fbs</th>\n",
       "      <th>restecg</th>\n",
       "      <th>thalch</th>\n",
       "      <th>exang</th>\n",
       "      <th>oldpeak</th>\n",
       "      <th>slope</th>\n",
       "      <th>ca</th>\n",
       "      <th>thal</th>\n",
       "    </tr>\n",
       "    <tr>\n",
       "      <th>id</th>\n",
       "      <th></th>\n",
       "      <th></th>\n",
       "      <th></th>\n",
       "      <th></th>\n",
       "      <th></th>\n",
       "      <th></th>\n",
       "      <th></th>\n",
       "      <th></th>\n",
       "      <th></th>\n",
       "      <th></th>\n",
       "      <th></th>\n",
       "      <th></th>\n",
       "      <th></th>\n",
       "    </tr>\n",
       "  </thead>\n",
       "  <tbody>\n",
       "    <tr>\n",
       "      <th>1</th>\n",
       "      <td>63</td>\n",
       "      <td>1</td>\n",
       "      <td>3</td>\n",
       "      <td>145.0</td>\n",
       "      <td>233.0</td>\n",
       "      <td>1</td>\n",
       "      <td>0</td>\n",
       "      <td>150.0</td>\n",
       "      <td>0</td>\n",
       "      <td>2.3</td>\n",
       "      <td>0</td>\n",
       "      <td>0.0</td>\n",
       "      <td>0</td>\n",
       "    </tr>\n",
       "    <tr>\n",
       "      <th>2</th>\n",
       "      <td>67</td>\n",
       "      <td>1</td>\n",
       "      <td>0</td>\n",
       "      <td>160.0</td>\n",
       "      <td>286.0</td>\n",
       "      <td>0</td>\n",
       "      <td>0</td>\n",
       "      <td>108.0</td>\n",
       "      <td>1</td>\n",
       "      <td>1.5</td>\n",
       "      <td>1</td>\n",
       "      <td>3.0</td>\n",
       "      <td>1</td>\n",
       "    </tr>\n",
       "    <tr>\n",
       "      <th>3</th>\n",
       "      <td>67</td>\n",
       "      <td>1</td>\n",
       "      <td>0</td>\n",
       "      <td>120.0</td>\n",
       "      <td>229.0</td>\n",
       "      <td>0</td>\n",
       "      <td>0</td>\n",
       "      <td>129.0</td>\n",
       "      <td>1</td>\n",
       "      <td>2.6</td>\n",
       "      <td>1</td>\n",
       "      <td>2.0</td>\n",
       "      <td>2</td>\n",
       "    </tr>\n",
       "    <tr>\n",
       "      <th>4</th>\n",
       "      <td>37</td>\n",
       "      <td>1</td>\n",
       "      <td>2</td>\n",
       "      <td>130.0</td>\n",
       "      <td>250.0</td>\n",
       "      <td>0</td>\n",
       "      <td>1</td>\n",
       "      <td>187.0</td>\n",
       "      <td>0</td>\n",
       "      <td>3.5</td>\n",
       "      <td>0</td>\n",
       "      <td>0.0</td>\n",
       "      <td>1</td>\n",
       "    </tr>\n",
       "    <tr>\n",
       "      <th>5</th>\n",
       "      <td>41</td>\n",
       "      <td>0</td>\n",
       "      <td>1</td>\n",
       "      <td>130.0</td>\n",
       "      <td>204.0</td>\n",
       "      <td>0</td>\n",
       "      <td>0</td>\n",
       "      <td>172.0</td>\n",
       "      <td>0</td>\n",
       "      <td>1.4</td>\n",
       "      <td>2</td>\n",
       "      <td>0.0</td>\n",
       "      <td>1</td>\n",
       "    </tr>\n",
       "    <tr>\n",
       "      <th>...</th>\n",
       "      <td>...</td>\n",
       "      <td>...</td>\n",
       "      <td>...</td>\n",
       "      <td>...</td>\n",
       "      <td>...</td>\n",
       "      <td>...</td>\n",
       "      <td>...</td>\n",
       "      <td>...</td>\n",
       "      <td>...</td>\n",
       "      <td>...</td>\n",
       "      <td>...</td>\n",
       "      <td>...</td>\n",
       "      <td>...</td>\n",
       "    </tr>\n",
       "    <tr>\n",
       "      <th>916</th>\n",
       "      <td>54</td>\n",
       "      <td>0</td>\n",
       "      <td>0</td>\n",
       "      <td>127.0</td>\n",
       "      <td>333.0</td>\n",
       "      <td>1</td>\n",
       "      <td>2</td>\n",
       "      <td>154.0</td>\n",
       "      <td>0</td>\n",
       "      <td>0.0</td>\n",
       "      <td>1</td>\n",
       "      <td>0.0</td>\n",
       "      <td>1</td>\n",
       "    </tr>\n",
       "    <tr>\n",
       "      <th>917</th>\n",
       "      <td>62</td>\n",
       "      <td>1</td>\n",
       "      <td>3</td>\n",
       "      <td>130.0</td>\n",
       "      <td>139.0</td>\n",
       "      <td>0</td>\n",
       "      <td>2</td>\n",
       "      <td>140.0</td>\n",
       "      <td>0</td>\n",
       "      <td>0.0</td>\n",
       "      <td>1</td>\n",
       "      <td>0.0</td>\n",
       "      <td>1</td>\n",
       "    </tr>\n",
       "    <tr>\n",
       "      <th>918</th>\n",
       "      <td>55</td>\n",
       "      <td>1</td>\n",
       "      <td>0</td>\n",
       "      <td>122.0</td>\n",
       "      <td>223.0</td>\n",
       "      <td>1</td>\n",
       "      <td>2</td>\n",
       "      <td>100.0</td>\n",
       "      <td>0</td>\n",
       "      <td>0.0</td>\n",
       "      <td>1</td>\n",
       "      <td>0.0</td>\n",
       "      <td>0</td>\n",
       "    </tr>\n",
       "    <tr>\n",
       "      <th>919</th>\n",
       "      <td>58</td>\n",
       "      <td>1</td>\n",
       "      <td>0</td>\n",
       "      <td>130.0</td>\n",
       "      <td>385.0</td>\n",
       "      <td>1</td>\n",
       "      <td>0</td>\n",
       "      <td>140.0</td>\n",
       "      <td>0</td>\n",
       "      <td>0.0</td>\n",
       "      <td>1</td>\n",
       "      <td>0.0</td>\n",
       "      <td>1</td>\n",
       "    </tr>\n",
       "    <tr>\n",
       "      <th>920</th>\n",
       "      <td>62</td>\n",
       "      <td>1</td>\n",
       "      <td>1</td>\n",
       "      <td>120.0</td>\n",
       "      <td>254.0</td>\n",
       "      <td>0</td>\n",
       "      <td>0</td>\n",
       "      <td>93.0</td>\n",
       "      <td>1</td>\n",
       "      <td>0.0</td>\n",
       "      <td>1</td>\n",
       "      <td>0.0</td>\n",
       "      <td>1</td>\n",
       "    </tr>\n",
       "  </tbody>\n",
       "</table>\n",
       "<p>920 rows × 13 columns</p>\n",
       "</div>"
      ],
      "text/plain": [
       "     age  sex  cp  trestbps   chol  fbs  restecg  thalch  exang  oldpeak  \\\n",
       "id                                                                         \n",
       "1     63    1   3     145.0  233.0    1        0   150.0      0      2.3   \n",
       "2     67    1   0     160.0  286.0    0        0   108.0      1      1.5   \n",
       "3     67    1   0     120.0  229.0    0        0   129.0      1      2.6   \n",
       "4     37    1   2     130.0  250.0    0        1   187.0      0      3.5   \n",
       "5     41    0   1     130.0  204.0    0        0   172.0      0      1.4   \n",
       "..   ...  ...  ..       ...    ...  ...      ...     ...    ...      ...   \n",
       "916   54    0   0     127.0  333.0    1        2   154.0      0      0.0   \n",
       "917   62    1   3     130.0  139.0    0        2   140.0      0      0.0   \n",
       "918   55    1   0     122.0  223.0    1        2   100.0      0      0.0   \n",
       "919   58    1   0     130.0  385.0    1        0   140.0      0      0.0   \n",
       "920   62    1   1     120.0  254.0    0        0    93.0      1      0.0   \n",
       "\n",
       "     slope   ca  thal  \n",
       "id                     \n",
       "1        0  0.0     0  \n",
       "2        1  3.0     1  \n",
       "3        1  2.0     2  \n",
       "4        0  0.0     1  \n",
       "5        2  0.0     1  \n",
       "..     ...  ...   ...  \n",
       "916      1  0.0     1  \n",
       "917      1  0.0     1  \n",
       "918      1  0.0     0  \n",
       "919      1  0.0     1  \n",
       "920      1  0.0     1  \n",
       "\n",
       "[920 rows x 13 columns]"
      ]
     },
     "execution_count": 42,
     "metadata": {},
     "output_type": "execute_result"
    }
   ],
   "source": [
    "X"
   ]
  },
  {
   "cell_type": "code",
   "execution_count": 43,
   "id": "928b7721-acc9-4289-b22b-148f8e980061",
   "metadata": {
    "execution": {
     "iopub.execute_input": "2025-09-14T12:41:31.886808Z",
     "iopub.status.busy": "2025-09-14T12:41:31.886808Z",
     "iopub.status.idle": "2025-09-14T12:41:31.891860Z",
     "shell.execute_reply": "2025-09-14T12:41:31.891860Z",
     "shell.execute_reply.started": "2025-09-14T12:41:31.886808Z"
    }
   },
   "outputs": [],
   "source": [
    "X_train, X_test, Y_train, Y_test = train_test_split(X,Y , test_size=0.2, random_state=42)"
   ]
  },
  {
   "cell_type": "code",
   "execution_count": 44,
   "id": "8ebeff47-3286-4bdc-9cdc-07461dae1eaf",
   "metadata": {
    "execution": {
     "iopub.execute_input": "2025-09-14T12:41:31.892866Z",
     "iopub.status.busy": "2025-09-14T12:41:31.892866Z",
     "iopub.status.idle": "2025-09-14T12:41:31.903845Z",
     "shell.execute_reply": "2025-09-14T12:41:31.902840Z",
     "shell.execute_reply.started": "2025-09-14T12:41:31.892866Z"
    }
   },
   "outputs": [],
   "source": [
    "X_train_scaled = scaler.fit_transform(X_train)\n",
    "X_test_scaled = scaler.fit_transform(X_test)"
   ]
  },
  {
   "cell_type": "code",
   "execution_count": 45,
   "id": "caebdac6-cee4-4fc7-9001-1a697be65241",
   "metadata": {
    "execution": {
     "iopub.execute_input": "2025-09-14T12:41:31.903845Z",
     "iopub.status.busy": "2025-09-14T12:41:31.903845Z",
     "iopub.status.idle": "2025-09-14T12:41:31.930401Z",
     "shell.execute_reply": "2025-09-14T12:41:31.929896Z",
     "shell.execute_reply.started": "2025-09-14T12:41:31.903845Z"
    }
   },
   "outputs": [
    {
     "name": "stdout",
     "output_type": "stream",
     "text": [
      "--- Logistic Regression Performance ---\n",
      "              precision    recall  f1-score   support\n",
      "\n",
      "           0       0.65      0.91      0.76        75\n",
      "           1       0.42      0.41      0.42        54\n",
      "           2       0.33      0.12      0.18        25\n",
      "           3       0.24      0.15      0.19        26\n",
      "           4       0.00      0.00      0.00         4\n",
      "\n",
      "    accuracy                           0.53       184\n",
      "   macro avg       0.33      0.32      0.31       184\n",
      "weighted avg       0.47      0.53      0.48       184\n",
      "\n"
     ]
    }
   ],
   "source": [
    "# Logistic Regressiong \n",
    "LRegression = LogisticRegression(random_state=42)\n",
    "LRegression.fit(X_train_scaled, Y_train)\n",
    "Y_pred_lr = LRegression.predict(X_test_scaled)\n",
    "print(\"--- Logistic Regression Performance ---\")\n",
    "print(classification_report(Y_test, Y_pred_lr, zero_division=0))"
   ]
  },
  {
   "cell_type": "code",
   "execution_count": 46,
   "id": "43b88c19-2486-4adf-97d4-ca4b77452296",
   "metadata": {
    "execution": {
     "iopub.execute_input": "2025-09-14T12:41:31.931405Z",
     "iopub.status.busy": "2025-09-14T12:41:31.931405Z",
     "iopub.status.idle": "2025-09-14T12:41:32.104019Z",
     "shell.execute_reply": "2025-09-14T12:41:32.104019Z",
     "shell.execute_reply.started": "2025-09-14T12:41:31.931405Z"
    }
   },
   "outputs": [
    {
     "name": "stdout",
     "output_type": "stream",
     "text": [
      "--- RandomForestClassifier ---\n",
      "              precision    recall  f1-score   support\n",
      "\n",
      "           0       0.73      0.92      0.82        75\n",
      "           1       0.48      0.54      0.50        54\n",
      "           2       0.29      0.16      0.21        25\n",
      "           3       0.29      0.15      0.20        26\n",
      "           4       0.00      0.00      0.00         4\n",
      "\n",
      "    accuracy                           0.58       184\n",
      "   macro avg       0.36      0.35      0.35       184\n",
      "weighted avg       0.52      0.58      0.54       184\n",
      "\n"
     ]
    }
   ],
   "source": [
    "# Random Forest Classifier  \n",
    "RandomForest = RandomForestClassifier(n_estimators=100, random_state=42)\n",
    "RandomForest.fit(X_train, Y_train)\n",
    "Y_pred_RF = RandomForest.predict(X_test)\n",
    "print(\"--- RandomForestClassifier ---\")\n",
    "print(classification_report(Y_test, Y_pred_RF, zero_division=0))"
   ]
  },
  {
   "cell_type": "code",
   "execution_count": 47,
   "id": "b7b01417-86db-4fb3-8c6c-cb9203dfaf47",
   "metadata": {
    "execution": {
     "iopub.execute_input": "2025-09-14T12:41:32.105023Z",
     "iopub.status.busy": "2025-09-14T12:41:32.104019Z",
     "iopub.status.idle": "2025-09-14T12:41:32.132572Z",
     "shell.execute_reply": "2025-09-14T12:41:32.132068Z",
     "shell.execute_reply.started": "2025-09-14T12:41:32.105023Z"
    }
   },
   "outputs": [
    {
     "name": "stdout",
     "output_type": "stream",
     "text": [
      "--- Support Vector Machine  ---\n",
      "              precision    recall  f1-score   support\n",
      "\n",
      "           0       0.69      0.92      0.79        75\n",
      "           1       0.43      0.50      0.46        54\n",
      "           2       0.43      0.12      0.19        25\n",
      "           3       0.21      0.12      0.15        26\n",
      "           4       0.00      0.00      0.00         4\n",
      "\n",
      "    accuracy                           0.55       184\n",
      "   macro avg       0.35      0.33      0.32       184\n",
      "weighted avg       0.50      0.55      0.50       184\n",
      "\n"
     ]
    }
   ],
   "source": [
    "# Support Vector Machine\n",
    "SVMClassifier = SVC(random_state=42)\n",
    "SVMClassifier.fit(X_train_scaled, Y_train)\n",
    "Y_pred_SVM = SVMClassifier.predict(X_test_scaled)\n",
    "print(\"--- Support Vector Machine  ---\")\n",
    "print(classification_report(Y_test, Y_pred_SVM, zero_division=0))"
   ]
  },
  {
   "cell_type": "code",
   "execution_count": 48,
   "id": "9d0e9b64-1053-4a3f-91c1-4be3e628492b",
   "metadata": {
    "execution": {
     "iopub.execute_input": "2025-09-14T12:41:32.133576Z",
     "iopub.status.busy": "2025-09-14T12:41:32.132572Z",
     "iopub.status.idle": "2025-09-14T12:41:32.151047Z",
     "shell.execute_reply": "2025-09-14T12:41:32.150043Z",
     "shell.execute_reply.started": "2025-09-14T12:41:32.133576Z"
    }
   },
   "outputs": [
    {
     "name": "stdout",
     "output_type": "stream",
     "text": [
      "\n",
      "--- K-Nearest Neighbors (KNN) Performance ---\n",
      "              precision    recall  f1-score   support\n",
      "\n",
      "           0       0.63      0.84      0.72        75\n",
      "           1       0.43      0.50      0.46        54\n",
      "           2       0.21      0.12      0.15        25\n",
      "           3       0.14      0.04      0.06        26\n",
      "           4       0.00      0.00      0.00         4\n",
      "\n",
      "    accuracy                           0.51       184\n",
      "   macro avg       0.28      0.30      0.28       184\n",
      "weighted avg       0.43      0.51      0.46       184\n",
      "\n"
     ]
    }
   ],
   "source": [
    "# KNearest Negighbourse \n",
    "KNN =  KNeighborsClassifier()\n",
    "KNN.fit(X_train_scaled, Y_train)\n",
    "Y_pred_KNN = KNN.predict(X_test_scaled)\n",
    "\n",
    "print(\"\\n--- K-Nearest Neighbors (KNN) Performance ---\")\n",
    "print(classification_report(Y_test, Y_pred_KNN, zero_division=0))"
   ]
  },
  {
   "cell_type": "markdown",
   "id": "3ab9df43-76ab-47e7-bbc9-6561f2838391",
   "metadata": {},
   "source": [
    "# Pipeline  Implimented "
   ]
  },
  {
   "cell_type": "code",
   "execution_count": 67,
   "id": "11d07335-2524-471c-b07e-cd9a917fdcaa",
   "metadata": {
    "execution": {
     "iopub.execute_input": "2025-09-14T12:42:22.343078Z",
     "iopub.status.busy": "2025-09-14T12:42:22.343078Z",
     "iopub.status.idle": "2025-09-14T12:42:22.515046Z",
     "shell.execute_reply": "2025-09-14T12:42:22.514041Z",
     "shell.execute_reply.started": "2025-09-14T12:42:22.343078Z"
    }
   },
   "outputs": [
    {
     "data": {
      "image/png": "[encoded data removed]",
      "text/plain": [
       "<Figure size 800x600 with 2 Axes>"
      ]
     },
     "metadata": {},
     "output_type": "display_data"
    }
   ],
   "source": [
    "# Visualize the confusion matrix for the best model (SVM)\n",
    "from sklearn.metrics import confusion_matrix\n",
    "import matplotlib.pyplot as plt\n",
    "import seaborn as sns\n",
    "\n",
    "cm = confusion_matrix(Y_test, Y_pred_SVM)\n",
    "plt.figure(figsize=(8, 6))\n",
    "sns.heatmap(cm, annot=True, fmt='d', cmap='Blues',\n",
    "            xticklabels=['No Disease', 'Disease', 'Severity 2', 'Severity 3', 'Severity 4'], yticklabels=['No Disease', 'Disease', 'Severity 2', 'Severity 3', 'Severity 4'])\n",
    "plt.xlabel('Predicted')\n",
    "plt.ylabel('Actual')\n",
    "plt.title('Confusion Matrix - Support Vector Machine (SVM)')\n",
    "plt.show()"
   ]
  },
  {
   "cell_type": "code",
   "execution_count": null,
   "id": "678ccbbe-6820-4a7f-9996-03048ffcca4a",
   "metadata": {},
   "outputs": [],
   "source": []
  },
  {
   "cell_type": "code",
   "execution_count": null,
   "id": "87daeb85-9535-419a-b05f-05a7ec558f5a",
   "metadata": {},
   "outputs": [],
   "source": []
  },
  {
   "cell_type": "code",
   "execution_count": null,
   "id": "50c7cf9e-5e9f-4776-8e9e-c05d1c3061ad",
   "metadata": {},
   "outputs": [],
   "source": []
  },
  {
   "cell_type": "code",
   "execution_count": 49,
   "id": "49918be6-22f2-4dac-a661-695b9c5c86b5",
   "metadata": {
    "execution": {
     "iopub.execute_input": "2025-09-14T12:41:32.151047Z",
     "iopub.status.busy": "2025-09-14T12:41:32.151047Z",
     "iopub.status.idle": "2025-09-14T12:41:32.155554Z",
     "shell.execute_reply": "2025-09-14T12:41:32.155554Z",
     "shell.execute_reply.started": "2025-09-14T12:41:32.151047Z"
    }
   },
   "outputs": [],
   "source": [
    "import pandas as pd\n",
    "import numpy as np\n",
    "import matplotlib.pyplot as plt\n",
    "import seaborn as sns\n",
    "from sklearn.model_selection import train_test_split\n",
    "from sklearn.preprocessing import StandardScaler , OneHotEncoder\n",
    "from sklearn.compose import ColumnTransformer\n",
    "from sklearn.pipeline import Pipeline \n",
    "from sklearn.linear_model import LogisticRegression\n",
    "from sklearn.ensemble import RandomForestClassifier\n",
    "from sklearn.metrics import accuracy_score, confusion_matrix, classification_report , precision_score, recall_score, f1_score\n",
    "\n",
    "sns.set_style('whitegrid')"
   ]
  },
  {
   "cell_type": "code",
   "execution_count": 50,
   "id": "89490aed-9365-4af8-9bb8-2d2d50aac50f",
   "metadata": {
    "execution": {
     "iopub.execute_input": "2025-09-14T12:41:32.157564Z",
     "iopub.status.busy": "2025-09-14T12:41:32.156560Z",
     "iopub.status.idle": "2025-09-14T12:41:32.163686Z",
     "shell.execute_reply": "2025-09-14T12:41:32.163686Z",
     "shell.execute_reply.started": "2025-09-14T12:41:32.157564Z"
    }
   },
   "outputs": [],
   "source": [
    "data = pd.read_csv('heart_disease_uci-Day4.csv')"
   ]
  },
  {
   "cell_type": "code",
   "execution_count": 51,
   "id": "7ae883ac-e17e-48a7-a9eb-c91cadade9ee",
   "metadata": {
    "execution": {
     "iopub.execute_input": "2025-09-14T12:41:32.165199Z",
     "iopub.status.busy": "2025-09-14T12:41:32.165199Z",
     "iopub.status.idle": "2025-09-14T12:41:32.178975Z",
     "shell.execute_reply": "2025-09-14T12:41:32.178975Z",
     "shell.execute_reply.started": "2025-09-14T12:41:32.165199Z"
    }
   },
   "outputs": [
    {
     "data": {
      "text/html": [
       "<div>\n",
       "<style scoped>\n",
       "    .dataframe tbody tr th:only-of-type {\n",
       "        vertical-align: middle;\n",
       "    }\n",
       "\n",
       "    .dataframe tbody tr th {\n",
       "        vertical-align: top;\n",
       "    }\n",
       "\n",
       "    .dataframe thead th {\n",
       "        text-align: right;\n",
       "    }\n",
       "</style>\n",
       "<table border=\"1\" class=\"dataframe\">\n",
       "  <thead>\n",
       "    <tr style=\"text-align: right;\">\n",
       "      <th></th>\n",
       "      <th>id</th>\n",
       "      <th>age</th>\n",
       "      <th>sex</th>\n",
       "      <th>dataset</th>\n",
       "      <th>cp</th>\n",
       "      <th>trestbps</th>\n",
       "      <th>chol</th>\n",
       "      <th>fbs</th>\n",
       "      <th>restecg</th>\n",
       "      <th>thalch</th>\n",
       "      <th>exang</th>\n",
       "      <th>oldpeak</th>\n",
       "      <th>slope</th>\n",
       "      <th>ca</th>\n",
       "      <th>thal</th>\n",
       "      <th>num</th>\n",
       "    </tr>\n",
       "  </thead>\n",
       "  <tbody>\n",
       "    <tr>\n",
       "      <th>0</th>\n",
       "      <td>1</td>\n",
       "      <td>63</td>\n",
       "      <td>Male</td>\n",
       "      <td>Cleveland</td>\n",
       "      <td>typical angina</td>\n",
       "      <td>145.0</td>\n",
       "      <td>233.0</td>\n",
       "      <td>True</td>\n",
       "      <td>lv hypertrophy</td>\n",
       "      <td>150.0</td>\n",
       "      <td>False</td>\n",
       "      <td>2.3</td>\n",
       "      <td>downsloping</td>\n",
       "      <td>0.0</td>\n",
       "      <td>fixed defect</td>\n",
       "      <td>0</td>\n",
       "    </tr>\n",
       "    <tr>\n",
       "      <th>1</th>\n",
       "      <td>2</td>\n",
       "      <td>67</td>\n",
       "      <td>Male</td>\n",
       "      <td>Cleveland</td>\n",
       "      <td>asymptomatic</td>\n",
       "      <td>160.0</td>\n",
       "      <td>286.0</td>\n",
       "      <td>False</td>\n",
       "      <td>lv hypertrophy</td>\n",
       "      <td>108.0</td>\n",
       "      <td>True</td>\n",
       "      <td>1.5</td>\n",
       "      <td>flat</td>\n",
       "      <td>3.0</td>\n",
       "      <td>normal</td>\n",
       "      <td>2</td>\n",
       "    </tr>\n",
       "    <tr>\n",
       "      <th>2</th>\n",
       "      <td>3</td>\n",
       "      <td>67</td>\n",
       "      <td>Male</td>\n",
       "      <td>Cleveland</td>\n",
       "      <td>asymptomatic</td>\n",
       "      <td>120.0</td>\n",
       "      <td>229.0</td>\n",
       "      <td>False</td>\n",
       "      <td>lv hypertrophy</td>\n",
       "      <td>129.0</td>\n",
       "      <td>True</td>\n",
       "      <td>2.6</td>\n",
       "      <td>flat</td>\n",
       "      <td>2.0</td>\n",
       "      <td>reversable defect</td>\n",
       "      <td>1</td>\n",
       "    </tr>\n",
       "    <tr>\n",
       "      <th>3</th>\n",
       "      <td>4</td>\n",
       "      <td>37</td>\n",
       "      <td>Male</td>\n",
       "      <td>Cleveland</td>\n",
       "      <td>non-anginal</td>\n",
       "      <td>130.0</td>\n",
       "      <td>250.0</td>\n",
       "      <td>False</td>\n",
       "      <td>normal</td>\n",
       "      <td>187.0</td>\n",
       "      <td>False</td>\n",
       "      <td>3.5</td>\n",
       "      <td>downsloping</td>\n",
       "      <td>0.0</td>\n",
       "      <td>normal</td>\n",
       "      <td>0</td>\n",
       "    </tr>\n",
       "    <tr>\n",
       "      <th>4</th>\n",
       "      <td>5</td>\n",
       "      <td>41</td>\n",
       "      <td>Female</td>\n",
       "      <td>Cleveland</td>\n",
       "      <td>atypical angina</td>\n",
       "      <td>130.0</td>\n",
       "      <td>204.0</td>\n",
       "      <td>False</td>\n",
       "      <td>lv hypertrophy</td>\n",
       "      <td>172.0</td>\n",
       "      <td>False</td>\n",
       "      <td>1.4</td>\n",
       "      <td>upsloping</td>\n",
       "      <td>0.0</td>\n",
       "      <td>normal</td>\n",
       "      <td>0</td>\n",
       "    </tr>\n",
       "    <tr>\n",
       "      <th>...</th>\n",
       "      <td>...</td>\n",
       "      <td>...</td>\n",
       "      <td>...</td>\n",
       "      <td>...</td>\n",
       "      <td>...</td>\n",
       "      <td>...</td>\n",
       "      <td>...</td>\n",
       "      <td>...</td>\n",
       "      <td>...</td>\n",
       "      <td>...</td>\n",
       "      <td>...</td>\n",
       "      <td>...</td>\n",
       "      <td>...</td>\n",
       "      <td>...</td>\n",
       "      <td>...</td>\n",
       "      <td>...</td>\n",
       "    </tr>\n",
       "    <tr>\n",
       "      <th>915</th>\n",
       "      <td>916</td>\n",
       "      <td>54</td>\n",
       "      <td>Female</td>\n",
       "      <td>VA Long Beach</td>\n",
       "      <td>asymptomatic</td>\n",
       "      <td>127.0</td>\n",
       "      <td>333.0</td>\n",
       "      <td>True</td>\n",
       "      <td>st-t abnormality</td>\n",
       "      <td>154.0</td>\n",
       "      <td>False</td>\n",
       "      <td>0.0</td>\n",
       "      <td>NaN</td>\n",
       "      <td>NaN</td>\n",
       "      <td>NaN</td>\n",
       "      <td>1</td>\n",
       "    </tr>\n",
       "    <tr>\n",
       "      <th>916</th>\n",
       "      <td>917</td>\n",
       "      <td>62</td>\n",
       "      <td>Male</td>\n",
       "      <td>VA Long Beach</td>\n",
       "      <td>typical angina</td>\n",
       "      <td>NaN</td>\n",
       "      <td>139.0</td>\n",
       "      <td>False</td>\n",
       "      <td>st-t abnormality</td>\n",
       "      <td>NaN</td>\n",
       "      <td>NaN</td>\n",
       "      <td>NaN</td>\n",
       "      <td>NaN</td>\n",
       "      <td>NaN</td>\n",
       "      <td>NaN</td>\n",
       "      <td>0</td>\n",
       "    </tr>\n",
       "    <tr>\n",
       "      <th>917</th>\n",
       "      <td>918</td>\n",
       "      <td>55</td>\n",
       "      <td>Male</td>\n",
       "      <td>VA Long Beach</td>\n",
       "      <td>asymptomatic</td>\n",
       "      <td>122.0</td>\n",
       "      <td>223.0</td>\n",
       "      <td>True</td>\n",
       "      <td>st-t abnormality</td>\n",
       "      <td>100.0</td>\n",
       "      <td>False</td>\n",
       "      <td>0.0</td>\n",
       "      <td>NaN</td>\n",
       "      <td>NaN</td>\n",
       "      <td>fixed defect</td>\n",
       "      <td>2</td>\n",
       "    </tr>\n",
       "    <tr>\n",
       "      <th>918</th>\n",
       "      <td>919</td>\n",
       "      <td>58</td>\n",
       "      <td>Male</td>\n",
       "      <td>VA Long Beach</td>\n",
       "      <td>asymptomatic</td>\n",
       "      <td>NaN</td>\n",
       "      <td>385.0</td>\n",
       "      <td>True</td>\n",
       "      <td>lv hypertrophy</td>\n",
       "      <td>NaN</td>\n",
       "      <td>NaN</td>\n",
       "      <td>NaN</td>\n",
       "      <td>NaN</td>\n",
       "      <td>NaN</td>\n",
       "      <td>NaN</td>\n",
       "      <td>0</td>\n",
       "    </tr>\n",
       "    <tr>\n",
       "      <th>919</th>\n",
       "      <td>920</td>\n",
       "      <td>62</td>\n",
       "      <td>Male</td>\n",
       "      <td>VA Long Beach</td>\n",
       "      <td>atypical angina</td>\n",
       "      <td>120.0</td>\n",
       "      <td>254.0</td>\n",
       "      <td>False</td>\n",
       "      <td>lv hypertrophy</td>\n",
       "      <td>93.0</td>\n",
       "      <td>True</td>\n",
       "      <td>0.0</td>\n",
       "      <td>NaN</td>\n",
       "      <td>NaN</td>\n",
       "      <td>NaN</td>\n",
       "      <td>1</td>\n",
       "    </tr>\n",
       "  </tbody>\n",
       "</table>\n",
       "<p>920 rows × 16 columns</p>\n",
       "</div>"
      ],
      "text/plain": [
       "      id  age     sex        dataset               cp  trestbps   chol    fbs  \\\n",
       "0      1   63    Male      Cleveland   typical angina     145.0  233.0   True   \n",
       "1      2   67    Male      Cleveland     asymptomatic     160.0  286.0  False   \n",
       "2      3   67    Male      Cleveland     asymptomatic     120.0  229.0  False   \n",
       "3      4   37    Male      Cleveland      non-anginal     130.0  250.0  False   \n",
       "4      5   41  Female      Cleveland  atypical angina     130.0  204.0  False   \n",
       "..   ...  ...     ...            ...              ...       ...    ...    ...   \n",
       "915  916   54  Female  VA Long Beach     asymptomatic     127.0  333.0   True   \n",
       "916  917   62    Male  VA Long Beach   typical angina       NaN  139.0  False   \n",
       "917  918   55    Male  VA Long Beach     asymptomatic     122.0  223.0   True   \n",
       "918  919   58    Male  VA Long Beach     asymptomatic       NaN  385.0   True   \n",
       "919  920   62    Male  VA Long Beach  atypical angina     120.0  254.0  False   \n",
       "\n",
       "              restecg  thalch  exang  oldpeak        slope   ca  \\\n",
       "0      lv hypertrophy   150.0  False      2.3  downsloping  0.0   \n",
       "1      lv hypertrophy   108.0   True      1.5         flat  3.0   \n",
       "2      lv hypertrophy   129.0   True      2.6         flat  2.0   \n",
       "3              normal   187.0  False      3.5  downsloping  0.0   \n",
       "4      lv hypertrophy   172.0  False      1.4    upsloping  0.0   \n",
       "..                ...     ...    ...      ...          ...  ...   \n",
       "915  st-t abnormality   154.0  False      0.0          NaN  NaN   \n",
       "916  st-t abnormality     NaN    NaN      NaN          NaN  NaN   \n",
       "917  st-t abnormality   100.0  False      0.0          NaN  NaN   \n",
       "918    lv hypertrophy     NaN    NaN      NaN          NaN  NaN   \n",
       "919    lv hypertrophy    93.0   True      0.0          NaN  NaN   \n",
       "\n",
       "                  thal  num  \n",
       "0         fixed defect    0  \n",
       "1               normal    2  \n",
       "2    reversable defect    1  \n",
       "3               normal    0  \n",
       "4               normal    0  \n",
       "..                 ...  ...  \n",
       "915                NaN    1  \n",
       "916                NaN    0  \n",
       "917       fixed defect    2  \n",
       "918                NaN    0  \n",
       "919                NaN    1  \n",
       "\n",
       "[920 rows x 16 columns]"
      ]
     },
     "execution_count": 51,
     "metadata": {},
     "output_type": "execute_result"
    }
   ],
   "source": [
    "data"
   ]
  },
  {
   "cell_type": "markdown",
   "id": "bc4bd959-54cf-4e03-b4cd-26296bbc3e23",
   "metadata": {},
   "source": [
    "# Step 2: EDA"
   ]
  },
  {
   "cell_type": "code",
   "execution_count": 52,
   "id": "31e4a5e7-a2ed-435f-b1a4-f3f3a9b44fb8",
   "metadata": {
    "execution": {
     "iopub.execute_input": "2025-09-14T12:41:32.179980Z",
     "iopub.status.busy": "2025-09-14T12:41:32.179980Z",
     "iopub.status.idle": "2025-09-14T12:41:32.189000Z",
     "shell.execute_reply": "2025-09-14T12:41:32.188493Z",
     "shell.execute_reply.started": "2025-09-14T12:41:32.179980Z"
    }
   },
   "outputs": [
    {
     "name": "stdout",
     "output_type": "stream",
     "text": [
      "<class 'pandas.core.frame.DataFrame'>\n",
      "RangeIndex: 920 entries, 0 to 919\n",
      "Data columns (total 16 columns):\n",
      " #   Column    Non-Null Count  Dtype  \n",
      "---  ------    --------------  -----  \n",
      " 0   id        920 non-null    int64  \n",
      " 1   age       920 non-null    int64  \n",
      " 2   sex       920 non-null    object \n",
      " 3   dataset   920 non-null    object \n",
      " 4   cp        920 non-null    object \n",
      " 5   trestbps  861 non-null    float64\n",
      " 6   chol      890 non-null    float64\n",
      " 7   fbs       830 non-null    object \n",
      " 8   restecg   918 non-null    object \n",
      " 9   thalch    865 non-null    float64\n",
      " 10  exang     865 non-null    object \n",
      " 11  oldpeak   858 non-null    float64\n",
      " 12  slope     611 non-null    object \n",
      " 13  ca        309 non-null    float64\n",
      " 14  thal      434 non-null    object \n",
      " 15  num       920 non-null    int64  \n",
      "dtypes: float64(5), int64(3), object(8)\n",
      "memory usage: 115.1+ KB\n"
     ]
    }
   ],
   "source": [
    "data.info()"
   ]
  },
  {
   "cell_type": "code",
   "execution_count": 53,
   "id": "ec03a84b-3a75-4f0d-91c4-67a2ceef6575",
   "metadata": {
    "execution": {
     "iopub.execute_input": "2025-09-14T12:41:32.190005Z",
     "iopub.status.busy": "2025-09-14T12:41:32.190005Z",
     "iopub.status.idle": "2025-09-14T12:41:32.213077Z",
     "shell.execute_reply": "2025-09-14T12:41:32.212533Z",
     "shell.execute_reply.started": "2025-09-14T12:41:32.190005Z"
    }
   },
   "outputs": [
    {
     "data": {
      "text/html": [
       "<div>\n",
       "<style scoped>\n",
       "    .dataframe tbody tr th:only-of-type {\n",
       "        vertical-align: middle;\n",
       "    }\n",
       "\n",
       "    .dataframe tbody tr th {\n",
       "        vertical-align: top;\n",
       "    }\n",
       "\n",
       "    .dataframe thead th {\n",
       "        text-align: right;\n",
       "    }\n",
       "</style>\n",
       "<table border=\"1\" class=\"dataframe\">\n",
       "  <thead>\n",
       "    <tr style=\"text-align: right;\">\n",
       "      <th></th>\n",
       "      <th>id</th>\n",
       "      <th>age</th>\n",
       "      <th>trestbps</th>\n",
       "      <th>chol</th>\n",
       "      <th>thalch</th>\n",
       "      <th>oldpeak</th>\n",
       "      <th>ca</th>\n",
       "      <th>num</th>\n",
       "    </tr>\n",
       "  </thead>\n",
       "  <tbody>\n",
       "    <tr>\n",
       "      <th>count</th>\n",
       "      <td>920.000000</td>\n",
       "      <td>920.000000</td>\n",
       "      <td>861.000000</td>\n",
       "      <td>890.000000</td>\n",
       "      <td>865.000000</td>\n",
       "      <td>858.000000</td>\n",
       "      <td>309.000000</td>\n",
       "      <td>920.000000</td>\n",
       "    </tr>\n",
       "    <tr>\n",
       "      <th>mean</th>\n",
       "      <td>460.500000</td>\n",
       "      <td>53.510870</td>\n",
       "      <td>132.132404</td>\n",
       "      <td>199.130337</td>\n",
       "      <td>137.545665</td>\n",
       "      <td>0.878788</td>\n",
       "      <td>0.676375</td>\n",
       "      <td>0.995652</td>\n",
       "    </tr>\n",
       "    <tr>\n",
       "      <th>std</th>\n",
       "      <td>265.725422</td>\n",
       "      <td>9.424685</td>\n",
       "      <td>19.066070</td>\n",
       "      <td>110.780810</td>\n",
       "      <td>25.926276</td>\n",
       "      <td>1.091226</td>\n",
       "      <td>0.935653</td>\n",
       "      <td>1.142693</td>\n",
       "    </tr>\n",
       "    <tr>\n",
       "      <th>min</th>\n",
       "      <td>1.000000</td>\n",
       "      <td>28.000000</td>\n",
       "      <td>0.000000</td>\n",
       "      <td>0.000000</td>\n",
       "      <td>60.000000</td>\n",
       "      <td>-2.600000</td>\n",
       "      <td>0.000000</td>\n",
       "      <td>0.000000</td>\n",
       "    </tr>\n",
       "    <tr>\n",
       "      <th>25%</th>\n",
       "      <td>230.750000</td>\n",
       "      <td>47.000000</td>\n",
       "      <td>120.000000</td>\n",
       "      <td>175.000000</td>\n",
       "      <td>120.000000</td>\n",
       "      <td>0.000000</td>\n",
       "      <td>0.000000</td>\n",
       "      <td>0.000000</td>\n",
       "    </tr>\n",
       "    <tr>\n",
       "      <th>50%</th>\n",
       "      <td>460.500000</td>\n",
       "      <td>54.000000</td>\n",
       "      <td>130.000000</td>\n",
       "      <td>223.000000</td>\n",
       "      <td>140.000000</td>\n",
       "      <td>0.500000</td>\n",
       "      <td>0.000000</td>\n",
       "      <td>1.000000</td>\n",
       "    </tr>\n",
       "    <tr>\n",
       "      <th>75%</th>\n",
       "      <td>690.250000</td>\n",
       "      <td>60.000000</td>\n",
       "      <td>140.000000</td>\n",
       "      <td>268.000000</td>\n",
       "      <td>157.000000</td>\n",
       "      <td>1.500000</td>\n",
       "      <td>1.000000</td>\n",
       "      <td>2.000000</td>\n",
       "    </tr>\n",
       "    <tr>\n",
       "      <th>max</th>\n",
       "      <td>920.000000</td>\n",
       "      <td>77.000000</td>\n",
       "      <td>200.000000</td>\n",
       "      <td>603.000000</td>\n",
       "      <td>202.000000</td>\n",
       "      <td>6.200000</td>\n",
       "      <td>3.000000</td>\n",
       "      <td>4.000000</td>\n",
       "    </tr>\n",
       "  </tbody>\n",
       "</table>\n",
       "</div>"
      ],
      "text/plain": [
       "               id         age    trestbps        chol      thalch     oldpeak  \\\n",
       "count  920.000000  920.000000  861.000000  890.000000  865.000000  858.000000   \n",
       "mean   460.500000   53.510870  132.132404  199.130337  137.545665    0.878788   \n",
       "std    265.725422    9.424685   19.066070  110.780810   25.926276    1.091226   \n",
       "min      1.000000   28.000000    0.000000    0.000000   60.000000   -2.600000   \n",
       "25%    230.750000   47.000000  120.000000  175.000000  120.000000    0.000000   \n",
       "50%    460.500000   54.000000  130.000000  223.000000  140.000000    0.500000   \n",
       "75%    690.250000   60.000000  140.000000  268.000000  157.000000    1.500000   \n",
       "max    920.000000   77.000000  200.000000  603.000000  202.000000    6.200000   \n",
       "\n",
       "               ca         num  \n",
       "count  309.000000  920.000000  \n",
       "mean     0.676375    0.995652  \n",
       "std      0.935653    1.142693  \n",
       "min      0.000000    0.000000  \n",
       "25%      0.000000    0.000000  \n",
       "50%      0.000000    1.000000  \n",
       "75%      1.000000    2.000000  \n",
       "max      3.000000    4.000000  "
      ]
     },
     "execution_count": 53,
     "metadata": {},
     "output_type": "execute_result"
    }
   ],
   "source": [
    "data.describe()"
   ]
  },
  {
   "cell_type": "code",
   "execution_count": 54,
   "id": "d701c668-9f2c-4675-8731-503835bc88f0",
   "metadata": {
    "execution": {
     "iopub.execute_input": "2025-09-14T12:41:32.214082Z",
     "iopub.status.busy": "2025-09-14T12:41:32.214082Z",
     "iopub.status.idle": "2025-09-14T12:41:32.221099Z",
     "shell.execute_reply": "2025-09-14T12:41:32.220595Z",
     "shell.execute_reply.started": "2025-09-14T12:41:32.214082Z"
    }
   },
   "outputs": [
    {
     "data": {
      "text/plain": [
       "id            0\n",
       "age           0\n",
       "sex           0\n",
       "dataset       0\n",
       "cp            0\n",
       "trestbps     59\n",
       "chol         30\n",
       "fbs          90\n",
       "restecg       2\n",
       "thalch       55\n",
       "exang        55\n",
       "oldpeak      62\n",
       "slope       309\n",
       "ca          611\n",
       "thal        486\n",
       "num           0\n",
       "dtype: int64"
      ]
     },
     "execution_count": 54,
     "metadata": {},
     "output_type": "execute_result"
    }
   ],
   "source": [
    "data.isnull().sum()"
   ]
  },
  {
   "cell_type": "code",
   "execution_count": 55,
   "id": "4e874311-2873-467a-9ad8-828a5c6c189b",
   "metadata": {
    "execution": {
     "iopub.execute_input": "2025-09-14T12:41:32.221099Z",
     "iopub.status.busy": "2025-09-14T12:41:32.221099Z",
     "iopub.status.idle": "2025-09-14T12:41:32.227056Z",
     "shell.execute_reply": "2025-09-14T12:41:32.227056Z",
     "shell.execute_reply.started": "2025-09-14T12:41:32.221099Z"
    }
   },
   "outputs": [
    {
     "data": {
      "text/plain": [
       "np.int64(1759)"
      ]
     },
     "execution_count": 55,
     "metadata": {},
     "output_type": "execute_result"
    }
   ],
   "source": [
    "data.isnull().sum().sum()"
   ]
  },
  {
   "cell_type": "markdown",
   "id": "2394b593-fa3e-48e6-a5ad-f85b297f6a37",
   "metadata": {},
   "source": [
    "#### 2.1 Analyzing the Target Variable "
   ]
  },
  {
   "cell_type": "code",
   "execution_count": 56,
   "id": "abbbd50a-5bbd-4155-983c-c57b5e6cea6b",
   "metadata": {
    "execution": {
     "iopub.execute_input": "2025-09-14T12:41:32.228060Z",
     "iopub.status.busy": "2025-09-14T12:41:32.228060Z",
     "iopub.status.idle": "2025-09-14T12:41:32.375492Z",
     "shell.execute_reply": "2025-09-14T12:41:32.375492Z",
     "shell.execute_reply.started": "2025-09-14T12:41:32.228060Z"
    }
   },
   "outputs": [
    {
     "data": {
      "image/png": "[encoded data removed]",
      "text/plain": [
       "<Figure size 800x600 with 1 Axes>"
      ]
     },
     "metadata": {},
     "output_type": "display_data"
    }
   ],
   "source": [
    "plt.figure(figsize=(8,6))\n",
    "sns.countplot(x='num', data=data, palette='viridis', hue='num', legend=False)\n",
    "plt.title('Distribution of Heart Disease (1= Disease, 0= No Disease)')\n",
    "plt.xlabel('Target')\n",
    "plt.ylabel('Count')\n",
    "plt.show()"
   ]
  },
  {
   "cell_type": "markdown",
   "id": "9e4d0d3e-9acb-4bf2-91bf-5a5377478113",
   "metadata": {},
   "source": [
    "**Insight:** The dataset is fairly balanced, with a slightly higher number of patients having heart disease. This is good because it means our model will have a similar number of examples for both classes to learn from, and accuracy will be a meaningful metric."
   ]
  },
  {
   "cell_type": "code",
   "execution_count": 57,
   "id": "2bbf00ec-f697-4c52-bb8f-f355ee893c5d",
   "metadata": {
    "execution": {
     "iopub.execute_input": "2025-09-14T12:41:32.376507Z",
     "iopub.status.busy": "2025-09-14T12:41:32.375492Z",
     "iopub.status.idle": "2025-09-14T12:41:32.999851Z",
     "shell.execute_reply": "2025-09-14T12:41:32.999851Z",
     "shell.execute_reply.started": "2025-09-14T12:41:32.376507Z"
    }
   },
   "outputs": [
    {
     "data": {
      "image/png": "[encoded data removed]",
      "text/plain": [
       "<Figure size 1800x1400 with 4 Axes>"
      ]
     },
     "metadata": {},
     "output_type": "display_data"
    }
   ],
   "source": [
    "# Let's visualize the relationship between key features and the target\n",
    "fig, axes = plt.subplots(2, 2, figsize=(18, 14))\n",
    "fig.suptitle('Key Features vs. Heart Disease', fontsize=16)\n",
    "\n",
    "# Age vs. Target\n",
    "sns.histplot(ax=axes[0, 0], data=data, x='age', hue='num', multiple='stack', palette='plasma').set_title('Age Distribution by Target')\n",
    "\n",
    "# Max Heart Rate vs. Target\n",
    "sns.boxplot(ax=axes[0, 1], data=data, x='num', y='thalch', palette='magma', hue='num', legend=False).set_title('Max Heart Rate by Target')\n",
    "\n",
    "# Chest Pain Type vs. Target\n",
    "cp_plot = sns.countplot(ax=axes[1, 0], data=data, x='cp', hue='num', palette='cividis')\n",
    "cp_plot.set_title('Chest Pain Type by Target')\n",
    "cp_plot.set_xticks(range(len(data['cp'].unique())))\n",
    "cp_plot.set_xticklabels(['Typical Angina', 'Atypical Angina', 'Non-anginal Pain', 'Asymptomatic'])\n",
    "\n",
    "# Sex vs. Target\n",
    "sex_plot = sns.countplot(ax=axes[1, 1], data=data, x='sex', hue='num', palette='inferno')\n",
    "sex_plot.set_title('Sex by Target')\n",
    "sex_plot.set_xticks(range(len(data['sex'].unique())))\n",
    "sex_plot.set_xticklabels(['Female', 'Male'])\n",
    "\n",
    "plt.tight_layout(rect=[0, 0, 1, 0.96])\n",
    "plt.show()"
   ]
  },
  {
   "cell_type": "markdown",
   "id": "c20fe8a0-a607-4441-9238-4852cbd4d59b",
   "metadata": {},
   "source": [
    "**Insights:**\n",
    "- **Max Heart Rate (`thalach`):** Patients with heart disease tend to have a lower maximum heart rate.\n",
    "- **Chest Pain (`cp`):** Patients with chest pain types 1 and 2 (Atypical and Non-anginal) are more likely to have heart disease. Surprisingly, those with type 0 (Typical Angina) are less likely, and those with asymptomatic pain (type 3) are very likely to have the disease.\n",
    "- **Sex:** A higher proportion of females in this dataset have heart disease compared to males."
   ]
  },
  {
   "cell_type": "code",
   "execution_count": 58,
   "id": "0445559a-f26c-477f-90c7-65666672b19e",
   "metadata": {
    "execution": {
     "iopub.execute_input": "2025-09-14T12:41:33.000866Z",
     "iopub.status.busy": "2025-09-14T12:41:33.000866Z",
     "iopub.status.idle": "2025-09-14T12:41:33.191150Z",
     "shell.execute_reply": "2025-09-14T12:41:33.190648Z",
     "shell.execute_reply.started": "2025-09-14T12:41:33.000866Z"
    }
   },
   "outputs": [
    {
     "data": {
      "image/png": "[encoded data removed]",
      "text/plain": [
       "<Figure size 1600x1200 with 2 Axes>"
      ]
     },
     "metadata": {},
     "output_type": "display_data"
    }
   ],
   "source": [
    "# Correlation Heatmap\n",
    "plt.figure(figsize=(16, 12))\n",
    "# Select only numerical columns for correlation calculation\n",
    "numerical_data = data.select_dtypes(include=np.number)\n",
    "sns.heatmap(numerical_data.corr(), annot=True, cmap='coolwarm', fmt='.2f')\n",
    "plt.title('Correlation Matrix of Numerical Features')\n",
    "plt.show()"
   ]
  },
  {
   "cell_type": "markdown",
   "id": "1ac91b39-4fa5-4ad7-8c4e-00ddf601923a",
   "metadata": {},
   "source": [
    "* Create numerical preprocessing pipeline: A Pipeline is created to handle numerical features. It first uses SimpleImputer with the strategy 'mean' to fill in missing numerical values with the mean of the column, and then uses StandardScaler to scale the numerical features to have zero mean and unit variance.\n",
    "* Create categorical preprocessing pipeline: A Pipeline is created for categorical features. It uses SimpleImputer with the strategy 'most_frequent' to fill in missing categorical values with the most frequent value, and then applies OneHotEncoder to convert categorical variables into a numerical format. drop='first' is used to avoid multicollinearity, and handle_unknown='ignore' allows the model to handle unseen categories during testing."
   ]
  },
  {
   "cell_type": "code",
   "execution_count": 59,
   "id": "6f7a1f72-45a4-4c78-ba23-3ad3182885b6",
   "metadata": {
    "execution": {
     "iopub.execute_input": "2025-09-14T12:41:33.192153Z",
     "iopub.status.busy": "2025-09-14T12:41:33.192153Z",
     "iopub.status.idle": "2025-09-14T12:41:33.205692Z",
     "shell.execute_reply": "2025-09-14T12:41:33.205692Z",
     "shell.execute_reply.started": "2025-09-14T12:41:33.192153Z"
    }
   },
   "outputs": [],
   "source": [
    "from sklearn.impute import SimpleImputer\n",
    "\n",
    "# Define features (X) and target (y)\n",
    "X = data.drop('num', axis=1)\n",
    "y = data['num']\n",
    "\n",
    "# Drop the 'id' and 'dataset' columns as they are not features\n",
    "X = X.drop(['id', 'dataset'], axis=1)\n",
    "\n",
    "\n",
    "# Identify categorical and numerical features\n",
    "categorical_features = ['sex', 'cp', 'fbs', 'restecg', 'exang', 'slope', 'thal']\n",
    "numerical_features = ['age', 'trestbps', 'chol', 'thalach', 'oldpeak', 'ca']\n",
    "\n",
    "# Create preprocessing pipelines for numerical and categorical features\n",
    "numerical_transformer = Pipeline(steps=[\n",
    "    ('imputer', SimpleImputer(strategy='mean')),\n",
    "    ('scaler', StandardScaler())\n",
    "])\n",
    "\n",
    "categorical_transformer = Pipeline(steps=[\n",
    "    ('imputer', SimpleImputer(strategy='most_frequent')), # Added imputation for categorical features\n",
    "    ('onehot', OneHotEncoder(drop='first', handle_unknown='ignore'))\n",
    "])\n",
    "\n",
    "# Create a column transformer to apply different transformations to different columns\n",
    "preprocessor = ColumnTransformer(\n",
    "    transformers=[\n",
    "        ('num', numerical_transformer, numerical_features),\n",
    "        ('cat', categorical_transformer, categorical_features)])\n",
    "\n",
    "# Split data into training and testing sets\n",
    "X_train, X_test, y_train, y_test = train_test_split(X, y, test_size=0.2, random_state=42, stratify=y)"
   ]
  },
  {
   "cell_type": "markdown",
   "id": "6d401056-a384-4f79-8694-910ada252915",
   "metadata": {},
   "source": [
    "# Step 4: Model Building & Training "
   ]
  },
  {
   "cell_type": "markdown",
   "id": "ca9fbe15-9e90-40b5-8e29-aba8db8f03f7",
   "metadata": {},
   "source": [
    "#### 4.1 Model 1: Logistic Regression (BaseLine)"
   ]
  },
  {
   "cell_type": "code",
   "execution_count": 60,
   "id": "9cb82d26-a678-4c29-9581-0c7181b6274e",
   "metadata": {
    "execution": {
     "iopub.execute_input": "2025-09-14T12:41:33.207721Z",
     "iopub.status.busy": "2025-09-14T12:41:33.206753Z",
     "iopub.status.idle": "2025-09-14T12:41:33.247110Z",
     "shell.execute_reply": "2025-09-14T12:41:33.247110Z",
     "shell.execute_reply.started": "2025-09-14T12:41:33.207721Z"
    }
   },
   "outputs": [
    {
     "name": "stdout",
     "output_type": "stream",
     "text": [
      "Numerical Features: ['age', 'trestbps', 'chol', 'thalch', 'oldpeak', 'ca']\n",
      "Categorical Freatures: ['sex', 'cp', 'fbs', 'restecg', 'exang', 'slope', 'thal']\n"
     ]
    }
   ],
   "source": [
    "from sklearn.impute import SimpleImputer \n",
    "from sklearn.preprocessing import StandardScaler, OneHotEncoder\n",
    "from sklearn.compose import ColumnTransformer \n",
    "from sklearn.pipeline import Pipeline\n",
    "from sklearn.linear_model import  LogisticRegression \n",
    "\n",
    "# Identify categorical and Numerical features directly from X_train columns \n",
    "all_features = X_train.columns.tolist()\n",
    "categorical_features = [col for col in all_features if X_train[col].dtype =='object']\n",
    "numerical_features = [col for col in all_features if X_train[col].dtype!= 'object']\n",
    "\n",
    "print('Numerical Features:', numerical_features)\n",
    "print('Categorical Freatures:', categorical_features)\n",
    "\n",
    "# Create preprocessing pipelines for numerical and categorical features \n",
    "numerical_transformer = Pipeline(steps=[\n",
    "    ('imputer',SimpleImputer(strategy='mean')),\n",
    "    ('scaler', StandardScaler())\n",
    "])\n",
    "\n",
    "categorical_transformer = Pipeline(steps=[\n",
    "    ('onehot', OneHotEncoder(drop='first', handle_unknown='ignore'))\n",
    "])\n",
    "\n",
    "# Create a column transformer to apply different transformations to different columns \n",
    "preprocessor = ColumnTransformer(\n",
    "    transformers=[\n",
    "        ('num', numerical_transformer, numerical_features),\n",
    "        ('cat', categorical_transformer, categorical_features)\n",
    "    ])\n",
    "\n",
    "# Create the Logistic Regression pipeline\n",
    "lr_pipeline = Pipeline(steps = [('preprocessor', preprocessor),\n",
    "                               ('classifier', LogisticRegression(random_state=42))])\n",
    "\n",
    "lr_pipeline.fit(X_train, y_train)\n",
    "y_pred_lr = lr_pipeline.predict(X_test)"
   ]
  },
  {
   "cell_type": "markdown",
   "id": "3d67273e-3123-464f-8912-ba9ed654f121",
   "metadata": {},
   "source": [
    "#### 4.2 Model 2: Random Forest Classifier "
   ]
  },
  {
   "cell_type": "code",
   "execution_count": 61,
   "id": "2adc3705-877e-4bc5-ac03-9b670a928c92",
   "metadata": {
    "execution": {
     "iopub.execute_input": "2025-09-14T12:41:33.247110Z",
     "iopub.status.busy": "2025-09-14T12:41:33.247110Z",
     "iopub.status.idle": "2025-09-14T12:41:33.407859Z",
     "shell.execute_reply": "2025-09-14T12:41:33.407859Z",
     "shell.execute_reply.started": "2025-09-14T12:41:33.247110Z"
    }
   },
   "outputs": [],
   "source": [
    "rf_pipeline = Pipeline(steps=[('preprocessor', preprocessor),\n",
    "                              ('classifier', RandomForestClassifier(n_estimators=100, random_state=42))])\n",
    "\n",
    "rf_pipeline.fit(X_train, y_train)\n",
    "y_pred_rf = rf_pipeline.predict(X_test)"
   ]
  },
  {
   "cell_type": "markdown",
   "id": "89ba30e3-9152-4739-9836-18cb0b44ed14",
   "metadata": {},
   "source": [
    "#### 4.3 Model 3: Support Vector Machine "
   ]
  },
  {
   "cell_type": "code",
   "execution_count": 62,
   "id": "015d128e-9fde-46ce-b227-c23ebdbcf7cb",
   "metadata": {
    "execution": {
     "iopub.execute_input": "2025-09-14T12:41:33.408863Z",
     "iopub.status.busy": "2025-09-14T12:41:33.407859Z",
     "iopub.status.idle": "2025-09-14T12:41:33.454970Z",
     "shell.execute_reply": "2025-09-14T12:41:33.453916Z",
     "shell.execute_reply.started": "2025-09-14T12:41:33.408863Z"
    }
   },
   "outputs": [],
   "source": [
    "from sklearn.svm import SVC\n",
    "\n",
    "# Create the SVM pipeline\n",
    "svm_pipeline = Pipeline(steps=[('preprocessor', preprocessor),\n",
    "                              ('classifier', SVC(random_state=42))])\n",
    "\n",
    "svm_pipeline.fit(X_train, y_train)\n",
    "y_pred_svm = svm_pipeline.predict(X_test)"
   ]
  },
  {
   "cell_type": "markdown",
   "id": "b95352ea-ce9b-4d0e-91e7-1d1b90aec979",
   "metadata": {},
   "source": [
    "#### 4.4 Model 4: K-Nearest Neighbors (KNN)"
   ]
  },
  {
   "cell_type": "code",
   "execution_count": 63,
   "id": "a32c755a-a465-4a5e-8f48-6979109c51b7",
   "metadata": {
    "execution": {
     "iopub.execute_input": "2025-09-14T12:41:33.454970Z",
     "iopub.status.busy": "2025-09-14T12:41:33.454970Z",
     "iopub.status.idle": "2025-09-14T12:41:35.833298Z",
     "shell.execute_reply": "2025-09-14T12:41:35.833298Z",
     "shell.execute_reply.started": "2025-09-14T12:41:33.454970Z"
    }
   },
   "outputs": [],
   "source": [
    "from sklearn.neighbors import KNeighborsClassifier\n",
    "\n",
    "# Create the KNN pipeline\n",
    "knn_pipeline = Pipeline(steps=[('preprocessor', preprocessor),\n",
    "                              ('classifier', KNeighborsClassifier())])\n",
    "\n",
    "knn_pipeline.fit(X_train, y_train)\n",
    "y_pred_knn = knn_pipeline.predict(X_test)"
   ]
  },
  {
   "cell_type": "markdown",
   "id": "dc40d1f0-6528-4ac0-8632-850f7df9b0db",
   "metadata": {},
   "source": [
    "# Step 5: Model Evaluation "
   ]
  },
  {
   "cell_type": "markdown",
   "id": "4c4bb3ff-12c5-4bc2-bcea-e07eb72733da",
   "metadata": {},
   "source": [
    "#### **Theoretical Concept: The Confusion Matrix & Key Metrics**\n",
    "For classification, accuracy isn't the whole story. We use a **Confusion Matrix** to get a deeper look at performance.\n",
    "\n",
    "- **True Positives (TP):** Correctly predicted positive class (Model said 'Disease', patient has it).\n",
    "- **True Negatives (TN):** Correctly predicted negative class (Model said 'No Disease', patient doesn't have it).\n",
    "- **False Positives (FP):** Incorrectly predicted positive class (Model said 'Disease', but patient doesn't have it). Also called a **Type I Error**.\n",
    "- **False Negatives (FN):** Incorrectly predicted negative class (Model said 'No Disease', but patient has it). Also called a **Type II Error**. This is often the most dangerous type of error in medical diagnoses.\n",
    "\n",
    "\n",
    "\n",
    "From this, we derive key metrics:\n",
    "- **Accuracy:** (TP+TN) / Total. Overall, how often is the classifier correct?\n",
    "- **Precision:** TP / (TP+FP). Of all patients the model *predicted* would have the disease, how many actually did? (Measures the cost of FPs).\n",
    "- **Recall (Sensitivity):** TP / (TP+FN). Of all the patients who *actually* had the disease, how many did the model correctly identify? (Measures the cost of FNs).\n",
    "- **F1-Score:** The harmonic mean of Precision and Recall. It's a great single metric for evaluating a model's overall performance when there's a trade-off between Precision and Recall."
   ]
  },
  {
   "cell_type": "code",
   "execution_count": 64,
   "id": "da3ee0b6-3b45-4cd7-b821-41b2fb15d31b",
   "metadata": {
    "execution": {
     "iopub.execute_input": "2025-09-14T12:41:35.834976Z",
     "iopub.status.busy": "2025-09-14T12:41:35.834473Z",
     "iopub.status.idle": "2025-09-14T12:41:35.869553Z",
     "shell.execute_reply": "2025-09-14T12:41:35.869553Z",
     "shell.execute_reply.started": "2025-09-14T12:41:35.834976Z"
    }
   },
   "outputs": [
    {
     "name": "stdout",
     "output_type": "stream",
     "text": [
      "--- Logistic Regression Performance ---\n",
      "              precision    recall  f1-score   support\n",
      "\n",
      "           0       0.80      0.85      0.83        82\n",
      "           1       0.49      0.57      0.53        53\n",
      "           2       0.30      0.14      0.19        22\n",
      "           3       0.16      0.19      0.17        21\n",
      "           4       0.00      0.00      0.00         6\n",
      "\n",
      "    accuracy                           0.58       184\n",
      "   macro avg       0.35      0.35      0.34       184\n",
      "weighted avg       0.55      0.58      0.56       184\n",
      "\n",
      "\n",
      "--- Random Forest Performance ---\n",
      "              precision    recall  f1-score   support\n",
      "\n",
      "           0       0.74      0.84      0.79        82\n",
      "           1       0.50      0.53      0.51        53\n",
      "           2       0.23      0.14      0.17        22\n",
      "           3       0.14      0.14      0.14        21\n",
      "           4       0.00      0.00      0.00         6\n",
      "\n",
      "    accuracy                           0.56       184\n",
      "   macro avg       0.32      0.33      0.32       184\n",
      "weighted avg       0.52      0.56      0.54       184\n",
      "\n",
      "\n",
      "--- Support Vector Machine (SVM) Performance ---\n",
      "              precision    recall  f1-score   support\n",
      "\n",
      "           0       0.76      0.87      0.81        82\n",
      "           1       0.54      0.60      0.57        53\n",
      "           2       0.29      0.09      0.14        22\n",
      "           3       0.12      0.14      0.13        21\n",
      "           4       0.00      0.00      0.00         6\n",
      "\n",
      "    accuracy                           0.59       184\n",
      "   macro avg       0.34      0.34      0.33       184\n",
      "weighted avg       0.54      0.59      0.56       184\n",
      "\n",
      "\n",
      "--- K-Nearest Neighbors (KNN) Performance ---\n",
      "              precision    recall  f1-score   support\n",
      "\n",
      "           0       0.74      0.85      0.80        82\n",
      "           1       0.54      0.60      0.57        53\n",
      "           2       0.11      0.05      0.06        22\n",
      "           3       0.19      0.19      0.19        21\n",
      "           4       0.00      0.00      0.00         6\n",
      "\n",
      "    accuracy                           0.58       184\n",
      "   macro avg       0.32      0.34      0.32       184\n",
      "weighted avg       0.52      0.58      0.55       184\n",
      "\n"
     ]
    }
   ],
   "source": [
    "print(\"--- Logistic Regression Performance ---\")\n",
    "print(classification_report(y_test, y_pred_lr, zero_division=0))\n",
    "\n",
    "print(\"\\n--- Random Forest Performance ---\")\n",
    "print(classification_report(y_test, y_pred_rf, zero_division=0))\n",
    "\n",
    "print(\"\\n--- Support Vector Machine (SVM) Performance ---\")\n",
    "print(classification_report(y_test, y_pred_svm, zero_division=0))\n",
    "\n",
    "print(\"\\n--- K-Nearest Neighbors (KNN) Performance ---\")\n",
    "print(classification_report(y_test, y_pred_knn, zero_division=0))"
   ]
  },
  {
   "cell_type": "markdown",
   "id": "26d7651f-b05e-481a-a150-04e4d1a6c9dd",
   "metadata": {},
   "source": [
    "### Step 7: Conclusion\n",
    "\n",
    "In this project, we built classification models for predicting heart disease.\n",
    "\n",
    "**Key Steps Undertaken:**\n",
    "1.  **Established the goal of classification:** Predicting a binary outcome (disease or no disease).\n",
    "2.  **Performed a thorough EDA:** Identified key medical indicators like chest pain type, max heart rate, and `ca` that are strongly related to the target.\n",
    "3.  **Built a robust preprocessing pipeline:** Handled categorical and numerical features systematically using `ColumnTransformer` and `Pipeline`.\n",
    "4.  **Trained and compared four models:** Evaluated Logistic Regression, Random Forest, Support Vector Machine (SVM), and K-Nearest Neighbors (KNN). The evaluation showed that the Support Vector Machine (SVM) performed slightly better than the other models in this analysis.\n",
    "5.  **Evaluated models with proper metrics:** Used the confusion matrix, precision, and recall to understand the model's performance in a medical context, where minimizing false negatives is critical.\n",
    "6.  **Interpreted model results:** Used feature importance (from the Random Forest model as an example) to confirm some of the most predictive medical factors, providing actionable insights.\n",
    "\n",
    "This end-to-end workflow demonstrates the application of classification in a real-world healthcare scenario, moving from raw data to predictive models and their evaluation."
   ]
  },
  {
   "cell_type": "markdown",
   "id": "13e8fe77-8db8-4127-a198-2e90dc2f175c",
   "metadata": {},
   "source": [
    "**Evaluation Insight:** The Support Vector Machine (SVM) Classifier performs slightly better than the other models, achieving an overall accuracy of 0.59. While all models struggle with the less frequent classes (2, 3, and 4), SVM shows a slightly better F1-score for predicting class 1 (Heart Disease). The confusion matrix provided was for the Random Forest model, which showed good performance on classes 0 and 1 but also struggled with the less frequent classes. Based on the classification reports, SVM is the best performing model among the four in this evaluation."
   ]
  },
  {
   "cell_type": "code",
   "execution_count": 65,
   "id": "2aa1db70-810a-4e83-8517-fd5792504834",
   "metadata": {
    "execution": {
     "iopub.execute_input": "2025-09-14T12:41:35.870558Z",
     "iopub.status.busy": "2025-09-14T12:41:35.870558Z",
     "iopub.status.idle": "2025-09-14T12:41:36.062684Z",
     "shell.execute_reply": "2025-09-14T12:41:36.062684Z",
     "shell.execute_reply.started": "2025-09-14T12:41:35.870558Z"
    }
   },
   "outputs": [
    {
     "data": {
      "image/png": "[encoded data removed]",
      "text/plain": [
       "<Figure size 800x600 with 2 Axes>"
      ]
     },
     "metadata": {},
     "output_type": "display_data"
    }
   ],
   "source": [
    "# Visualize the confusion matrix for the best model (SVM)\n",
    "from sklearn.metrics import confusion_matrix\n",
    "import matplotlib.pyplot as plt\n",
    "import seaborn as sns\n",
    "\n",
    "cm = confusion_matrix(y_test, y_pred_svm)\n",
    "plt.figure(figsize=(8, 6))\n",
    "sns.heatmap(cm, annot=True, fmt='d', cmap='Blues',\n",
    "            xticklabels=['No Disease', 'Disease', 'Severity 2', 'Severity 3', 'Severity 4'], yticklabels=['No Disease', 'Disease', 'Severity 2', 'Severity 3', 'Severity 4'])\n",
    "plt.xlabel('Predicted')\n",
    "plt.ylabel('Actual')\n",
    "plt.title('Confusion Matrix - Support Vector Machine (SVM)')\n",
    "plt.show()"
   ]
  },
  {
   "cell_type": "markdown",
   "id": "57c2d7e2-33c6-4bb0-b82b-6a8fee861596",
   "metadata": {},
   "source": [
    "**Insight:** This feature importance analysis, derived from the Random Forest model, shows that `ca` (number of major vessels colored by flourosopy), `thalach` (max heart rate), `thal` (thalassemia type), and `cp` (chest pain type) are among the most important predictors. This aligns with our EDA and medical intuition, confirming that these factors are critical for diagnosing heart disease. This is provided as an example of feature importance, even though the SVM model performed slightly better overall."
   ]
  },
  {
   "cell_type": "markdown",
   "id": "01882fd8-7478-43c6-b93e-2806f802ea23",
   "metadata": {},
   "source": [
    "**Evaluation Insight:** The Random Forest Classifier performs exceptionally well, achieving near-perfect scores across the board (Accuracy, Precision, Recall, and F1-Score are all 99-100%). It significantly outperforms the Logistic Regression model. The confusion matrix shows it made only one error on the test set."
   ]
  },
  {
   "cell_type": "markdown",
   "id": "340ba663-8b83-4357-bec4-acb735cc4b3c",
   "metadata": {},
   "source": [
    "### Step 6: Feature Importance\n",
    "A major advantage of tree-based models like Random Forest is that we can easily see which features were most influential in making predictions."
   ]
  },
  {
   "cell_type": "code",
   "execution_count": 66,
   "id": "ec3bdb9b-1b89-4247-9c0e-1be3403e4d96",
   "metadata": {
    "execution": {
     "iopub.execute_input": "2025-09-14T12:41:36.063689Z",
     "iopub.status.busy": "2025-09-14T12:41:36.063689Z",
     "iopub.status.idle": "2025-09-14T12:41:36.281217Z",
     "shell.execute_reply": "2025-09-14T12:41:36.280204Z",
     "shell.execute_reply.started": "2025-09-14T12:41:36.063689Z"
    }
   },
   "outputs": [
    {
     "data": {
      "image/png": "[encoded data removed]",
      "text/plain": [
       "<Figure size 1200x800 with 1 Axes>"
      ]
     },
     "metadata": {},
     "output_type": "display_data"
    }
   ],
   "source": [
    "# Extract feature names after one-hot encoding\n",
    "feature_names = rf_pipeline.named_steps['preprocessor'].get_feature_names_out()\n",
    "\n",
    "# Get feature importances from the trained model\n",
    "importances = rf_pipeline.named_steps['classifier'].feature_importances_\n",
    "\n",
    "# Create a DataFrame for visualization\n",
    "feature_importance_df = pd.DataFrame({'Feature': feature_names, 'Importance': importances})\n",
    "feature_importance_df = feature_importance_df.sort_values(by='Importance', ascending=False).head(10)\n",
    "\n",
    "# Plot\n",
    "plt.figure(figsize=(12, 8))\n",
    "sns.barplot(x='Importance', y='Feature', data=feature_importance_df, palette='rocket', hue='Feature', legend=False)\n",
    "plt.title('Top 10 Most Important Features - Random Forest')\n",
    "plt.show()"
   ]
  },
  {
   "cell_type": "markdown",
   "id": "6fc38d11-661e-441a-9e7a-07339ba50e12",
   "metadata": {},
   "source": [
    "**Insight:** The model found that `ca` (number of major vessels colored by flourosopy), `thalach` (max heart rate), `thal` (thalassemia type), and `cp` (chest pain type) are among the most important predictors. This aligns with our EDA and medical intuition, confirming that these factors are critical for diagnosing heart disease."
   ]
  },
  {
   "cell_type": "markdown",
   "id": "94c1f211-833b-45f6-b494-e329403cafa1",
   "metadata": {},
   "source": [
    "### Step 7: Conclusion\n",
    "\n",
    "In this project, we built a highly accurate classification model for predicting heart disease.\n",
    "\n",
    "**Key Steps Undertaken:**\n",
    "1.  **Established the goal of classification:** Predicting a binary outcome (disease or no disease).\n",
    "2.  **Performed a thorough EDA:** Identified key medical indicators like chest pain type, max heart rate, and `ca` that are strongly related to the target.\n",
    "3.  **Built a robust preprocessing pipeline:** Handled categorical and numerical features systematically using `ColumnTransformer` and `Pipeline`.\n",
    "4.  **Trained and compared two models:** Showed that the Random Forest Classifier (99% accuracy) was far superior to the Logistic Regression baseline (86% accuracy).\n",
    "5.  **Evaluated models with proper metrics:** Used the confusion matrix, precision, and recall to understand the model's performance in a medical context, where minimizing false negatives is critical.\n",
    "6.  **Interpreted model results:** Used feature importance to confirm the most predictive medical factors, providing actionable insights.\n",
    "\n",
    "This end-to-end workflow demonstrates the power of classification in a real-world healthcare scenario, moving from raw data to a highly accurate and interpretable predictive model."
   ]
  },
  {
   "cell_type": "code",
   "execution_count": null,
   "id": "9bee10e7-767a-4607-b1e0-eefb3bb79560",
   "metadata": {},
   "outputs": [],
   "source": []
  }
 ],
 "metadata": {
  "kernelspec": {
   "display_name": "Python 3 (ipykernel)",
   "language": "python",
   "name": "python3"
  },
  "language_info": {
   "codemirror_mode": {
    "name": "ipython",
    "version": 3
   },
   "file_extension": ".py",
   "mimetype": "text/x-python",
   "name": "python",
   "nbconvert_exporter": "python",
   "pygments_lexer": "ipython3",
   "version": "3.11.7"
  }
 },
 "nbformat": 4,
 "nbformat_minor": 5
}
